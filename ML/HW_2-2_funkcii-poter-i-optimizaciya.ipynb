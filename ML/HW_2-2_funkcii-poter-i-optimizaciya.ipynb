{
 "cells": [
  {
   "cell_type": "code",
   "execution_count": 128,
   "metadata": {},
   "outputs": [],
   "source": [
    "import numpy as np\n",
    "import pandas as pd\n",
    "import matplotlib.pyplot as plt\n",
    "import random\n",
    "import sklearn.datasets as dt\n",
    "from sklearn.linear_model import LogisticRegression"
   ]
  },
  {
   "cell_type": "markdown",
   "metadata": {},
   "source": [
    "### Задача №1"
   ]
  },
  {
   "cell_type": "code",
   "execution_count": 129,
   "metadata": {},
   "outputs": [],
   "source": [
    "# Создадим датасет с 2-мя переменными и бинарным у\n",
    "N = 300\n",
    "x,y = dt.make_classification(n_samples=N, n_features=2, n_repeated=0, class_sep=2, n_redundant=0)"
   ]
  },
  {
   "cell_type": "code",
   "execution_count": 130,
   "metadata": {},
   "outputs": [
    {
     "data": {
      "text/plain": [
       "array([0, 0, 0, 1, 0, 1, 1, 1, 0, 0])"
      ]
     },
     "execution_count": 130,
     "metadata": {},
     "output_type": "execute_result"
    }
   ],
   "source": [
    "y[0:10]"
   ]
  },
  {
   "cell_type": "code",
   "execution_count": 131,
   "metadata": {},
   "outputs": [
    {
     "data": {
      "image/png": "[encoded data removed]",
      "text/plain": [
       "<Figure size 432x288 with 1 Axes>"
      ]
     },
     "metadata": {
      "needs_background": "light"
     },
     "output_type": "display_data"
    }
   ],
   "source": [
    "plt.scatter(x[:,0], x[:,1])\n",
    "plt.show()"
   ]
  },
  {
   "cell_type": "code",
   "execution_count": 132,
   "metadata": {},
   "outputs": [
    {
     "data": {
      "text/plain": [
       "LogisticRegression()"
      ]
     },
     "execution_count": 132,
     "metadata": {},
     "output_type": "execute_result"
    }
   ],
   "source": [
    "# Обучим на данных нашу модель логистической регрессии\n",
    "model = LogisticRegression()\n",
    "model.fit(x, y)"
   ]
  },
  {
   "cell_type": "code",
   "execution_count": 133,
   "metadata": {},
   "outputs": [
    {
     "name": "stdout",
     "output_type": "stream",
     "text": [
      "[1.10946015]\n",
      "[[ 2.65412744 -0.36168877]]\n"
     ]
    }
   ],
   "source": [
    "# Посмотрим на получившиеся коэффициенты\n",
    "print(model.intercept_)\n",
    "print(model.coef_)"
   ]
  },
  {
   "cell_type": "code",
   "execution_count": 135,
   "metadata": {},
   "outputs": [],
   "source": [
    "# Функция сигмоида\n",
    "def sigmoid(z):\n",
    "    return 1 / (1 + np.exp(-z))"
   ]
  },
  {
   "cell_type": "code",
   "execution_count": 136,
   "metadata": {},
   "outputs": [],
   "source": [
    "EPOCHS = 500\n",
    "LEARNING_RATE = 0.01\n",
    "costs = []\n",
    "params = []\n",
    "predictions = []\n",
    "params = [1,1,1]"
   ]
  },
  {
   "cell_type": "code",
   "execution_count": 137,
   "metadata": {},
   "outputs": [
    {
     "data": {
      "text/plain": [
       "[1, 1, 1]"
      ]
     },
     "execution_count": 137,
     "metadata": {},
     "output_type": "execute_result"
    }
   ],
   "source": [
    "params"
   ]
  },
  {
   "cell_type": "code",
   "execution_count": 138,
   "metadata": {},
   "outputs": [],
   "source": [
    "for _ in range(EPOCHS):\n",
    "    prediction = sigmoid(params[0] + params[1] * x[:,0] + params[2] * x[:,1])\n",
    "    predictions.append(prediction)\n",
    "    \n",
    "    cost = - np.sum(y * np.log(prediction) + (1-y)*np.log(1-prediction)) / (N)\n",
    "    costs.append(cost)\n",
    "    \n",
    "    params[0] -= LEARNING_RATE * np.sum(prediction - y) / len(predictions)\n",
    "    params[1] -= LEARNING_RATE * np.sum((prediction - y) * x[:,0]) / len(predictions)\n",
    "    params[2] -= LEARNING_RATE * np.sum((prediction - y) * x[:,1]) / len(predictions)\n",
    "    \n",
    "    #print(\"t0:\", params[0], \"t1:\", params[1], \"t2:\", params[2], \"cost:\", cost)"
   ]
  },
  {
   "cell_type": "code",
   "execution_count": 139,
   "metadata": {},
   "outputs": [
    {
     "data": {
      "text/plain": [
       "[<matplotlib.lines.Line2D at 0x7fd432a83bb0>]"
      ]
     },
     "execution_count": 139,
     "metadata": {},
     "output_type": "execute_result"
    },
    {
     "data": {
      "image/png": "[encoded data removed]",
      "text/plain": [
       "<Figure size 432x288 with 1 Axes>"
      ]
     },
     "metadata": {
      "needs_background": "light"
     },
     "output_type": "display_data"
    }
   ],
   "source": [
    "plt.plot(costs)"
   ]
  },
  {
   "cell_type": "code",
   "execution_count": 140,
   "metadata": {},
   "outputs": [
    {
     "data": {
      "text/plain": [
       "[0.8318746470509805, 2.6474862070853944, -0.4144452575778042]"
      ]
     },
     "execution_count": 140,
     "metadata": {},
     "output_type": "execute_result"
    }
   ],
   "source": [
    "params"
   ]
  },
  {
   "cell_type": "markdown",
   "metadata": {},
   "source": [
    "### Метод nesterov momentum"
   ]
  },
  {
   "cell_type": "code",
   "execution_count": 175,
   "metadata": {},
   "outputs": [],
   "source": [
    "# В основном берется значение коэффициента сохранения равное 0.9\n",
    "costs_n=[]\n",
    "predictions_n = []\n",
    "params_n = [1,1,1]\n",
    "momentum = 0.9\n",
    "pred=[]\n",
    "\n",
    "v0 = 0\n",
    "v1 = 0\n",
    "v2 = 0\n",
    "\n",
    "eps = np.sqrt(np.finfo(float).eps)"
   ]
  },
  {
   "cell_type": "code",
   "execution_count": 176,
   "metadata": {},
   "outputs": [],
   "source": [
    "for _ in range(EPOCHS):\n",
    "    prediction_n = sigmoid(params_n[0] + params_n[1] * x[:,0] + params_n[2] * x[:,1])\n",
    "    predictions_n.append(prediction_n)\n",
    "    \n",
    "    cost_n = - np.sum(y * np.log(prediction_n) + (1-y)*np.log((1+eps)-prediction_n)) / (N)\n",
    "    costs_n.append(cost_n)\n",
    "    \n",
    "    pr_v0 = v0\n",
    "    pr_v1 = v1\n",
    "    pr_v2 = v2\n",
    "    \n",
    "    v0 = momentum * pr_v0 + LEARNING_RATE * ( np.sum(prediction_n - y) / len(predictions_n) )\n",
    "    v1 = momentum * pr_v1 + LEARNING_RATE * ( np.sum((prediction_n - y) * x[:,0]) / len(predictions_n) )\n",
    "    v2 = momentum * pr_v2 + LEARNING_RATE * ( np.sum((prediction_n - y) * x[:,1]) / len(predictions_n) )\n",
    "    \n",
    "    \n",
    "    params_n[0] -= v0\n",
    "    params_n[1] -= v1\n",
    "    params_n[2] -= v2"
   ]
  },
  {
   "cell_type": "code",
   "execution_count": 177,
   "metadata": {},
   "outputs": [
    {
     "data": {
      "image/png": "[encoded data removed]",
      "text/plain": [
       "<Figure size 432x288 with 1 Axes>"
      ]
     },
     "metadata": {
      "needs_background": "light"
     },
     "output_type": "display_data"
    }
   ],
   "source": [
    "plt.plot(costs_n)\n",
    "plt.show()"
   ]
  },
  {
   "cell_type": "code",
   "execution_count": 178,
   "metadata": {},
   "outputs": [
    {
     "data": {
      "text/plain": [
       "[2.5949828275529807, 18.07823378024975, -4.57712090438094]"
      ]
     },
     "execution_count": 178,
     "metadata": {},
     "output_type": "execute_result"
    }
   ],
   "source": [
    "params_n"
   ]
  },
  {
   "cell_type": "markdown",
   "metadata": {},
   "source": [
    "### Метод rmsprop"
   ]
  },
  {
   "cell_type": "code",
   "execution_count": 168,
   "metadata": {},
   "outputs": [],
   "source": [
    "# В основном берется значение коэффициента сохранения равное 0.9\n",
    "costs_r=[]\n",
    "params_r = [1,1,1]\n",
    "\n",
    "grad_sqr_0 = 0\n",
    "grad_sqr_1 = 0\n",
    "grad_sqr_2 = 0\n",
    "\n",
    "momentum = 0.9\n",
    "predictions_r = []"
   ]
  },
  {
   "cell_type": "code",
   "execution_count": 169,
   "metadata": {},
   "outputs": [],
   "source": [
    "for _ in range(EPOCHS):\n",
    "    prediction_r = sigmoid(params_r[0] + params_r[1] * x[:,0] + params_r[2] * x[:,1])\n",
    "    predictions_r.append(prediction_r)\n",
    "    \n",
    "    cost_r = - np.sum(y * np.log(prediction_r) + (1-y)*np.log(1-prediction_r)) / (N)\n",
    "    costs_r.append(cost_r)\n",
    "    \n",
    "    # Находим производные\n",
    "    dt0 = np.sum(prediction_r - y) / len(predictions_r)\n",
    "    dt1 = np.sum((prediction_r - y) * x[:,0]) / len(predictions_r)\n",
    "    dt2 = np.sum((prediction_r - y) * x[:,1]) / len(predictions_r)\n",
    "    \n",
    "    grad_sqr_0 = momentum * grad_sqr_0 + (1 - momentum) * dt0**2\n",
    "    grad_sqr_1 = momentum * grad_sqr_1 + (1 - momentum) * dt1**2\n",
    "    grad_sqr_2 = momentum * grad_sqr_2 + (1 - momentum) * dt2**2\n",
    "    \n",
    "    params_r[0] += -LEARNING_RATE * dt0 / (np.sqrt(grad_sqr_0) + 1e-7)\n",
    "    params_r[1] += -LEARNING_RATE * dt1 / (np.sqrt(grad_sqr_1) + 1e-7)\n",
    "    params_r[2] += -LEARNING_RATE * dt2 / (np.sqrt(grad_sqr_2) + 1e-7)"
   ]
  },
  {
   "cell_type": "code",
   "execution_count": 170,
   "metadata": {},
   "outputs": [
    {
     "data": {
      "image/png": "[encoded data removed]",
      "text/plain": [
       "<Figure size 432x288 with 1 Axes>"
      ]
     },
     "metadata": {
      "needs_background": "light"
     },
     "output_type": "display_data"
    }
   ],
   "source": [
    "plt.plot(costs_r)\n",
    "plt.show()"
   ]
  },
  {
   "cell_type": "code",
   "execution_count": 171,
   "metadata": {},
   "outputs": [
    {
     "data": {
      "text/plain": [
       "[1.495011361281961, 3.170842182506906, -0.4557297190148701]"
      ]
     },
     "execution_count": 171,
     "metadata": {},
     "output_type": "execute_result"
    }
   ],
   "source": [
    "params_r"
   ]
  },
  {
   "cell_type": "code",
   "execution_count": null,
   "metadata": {},
   "outputs": [],
   "source": []
  }
 ],
 "metadata": {
  "kernelspec": {
   "display_name": "Python 3",
   "language": "python",
   "name": "python3"
  },
  "language_info": {
   "codemirror_mode": {
    "name": "ipython",
    "version": 3
   },
   "file_extension": ".py",
   "mimetype": "text/x-python",
   "name": "python",
   "nbconvert_exporter": "python",
   "pygments_lexer": "ipython3",
   "version": "3.9.0"
  }
 },
 "nbformat": 4,
 "nbformat_minor": 4
}

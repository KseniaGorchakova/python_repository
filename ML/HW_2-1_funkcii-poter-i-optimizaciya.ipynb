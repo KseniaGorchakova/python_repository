{
 "cells": [
  {
   "cell_type": "code",
   "execution_count": 183,
   "metadata": {},
   "outputs": [],
   "source": [
    "import numpy as np\n",
    "import pandas as pd\n",
    "import matplotlib.pyplot as plt\n",
    "import random"
   ]
  },
  {
   "cell_type": "markdown",
   "metadata": {},
   "source": [
    "### Задача №1"
   ]
  },
  {
   "cell_type": "code",
   "execution_count": 184,
   "metadata": {},
   "outputs": [],
   "source": [
    "# Функция логистической регрессии\n",
    "N = 100\n",
    "x1 = np.random.uniform(low=0, high=10, size=N)\n",
    "x2 = np.random.uniform(low=0, high=10, size=N)\n",
    "y = 0.5*x1 + 2*x2 + 1"
   ]
  },
  {
   "cell_type": "code",
   "execution_count": 185,
   "metadata": {},
   "outputs": [
    {
     "data": {
      "image/png": "[encoded data removed]",
      "text/plain": [
       "<Figure size 432x288 with 1 Axes>"
      ]
     },
     "metadata": {
      "needs_background": "light"
     },
     "output_type": "display_data"
    }
   ],
   "source": [
    "plt.scatter(x1, x2)\n",
    "plt.show()"
   ]
  },
  {
   "cell_type": "code",
   "execution_count": 186,
   "metadata": {},
   "outputs": [],
   "source": [
    "def sigmoid(z):\n",
    "    return 1 / (1 + np.exp(-z))"
   ]
  },
  {
   "cell_type": "code",
   "execution_count": 187,
   "metadata": {},
   "outputs": [],
   "source": [
    "EPOCHS = 1000\n",
    "LEARNING_RATE = 0.0001\n",
    "costs = []\n",
    "params = []\n",
    "predictions = []\n",
    "params = np.random.normal(size=(3,))"
   ]
  },
  {
   "cell_type": "code",
   "execution_count": 188,
   "metadata": {},
   "outputs": [
    {
     "name": "stderr",
     "output_type": "stream",
     "text": [
      "<ipython-input-188-26bcbb323890>:5: RuntimeWarning: divide by zero encountered in log\n",
      "  cost = - np.sum(y * np.log(prediction) + (1-y)*np.log(1-prediction)) / (N)\n"
     ]
    }
   ],
   "source": [
    "for _ in range(EPOCHS):\n",
    "    prediction = sigmoid(params[0] + params[1] * x1 + params[2] * x2)\n",
    "    predictions.append(prediction)\n",
    "    \n",
    "    cost = - np.sum(y * np.log(prediction) + (1-y)*np.log(1-prediction)) / (N)\n",
    "    costs.append(cost)\n",
    "    \n",
    "    params[0] -= LEARNING_RATE * np.sum((prediction - y) / len(predictions))\n",
    "    params[1] -= LEARNING_RATE * np.sum((prediction - y) * x1 / len(predictions))\n",
    "    params[2] -= LEARNING_RATE * np.sum((prediction - y) * x2 / len(predictions))"
   ]
  },
  {
   "cell_type": "code",
   "execution_count": 189,
   "metadata": {},
   "outputs": [
    {
     "data": {
      "text/plain": [
       "[<matplotlib.lines.Line2D at 0x7fee05ba5e20>]"
      ]
     },
     "execution_count": 189,
     "metadata": {},
     "output_type": "execute_result"
    },
    {
     "data": {
      "image/png": "[encoded data removed]",
      "text/plain": [
       "<Figure size 432x288 with 1 Axes>"
      ]
     },
     "metadata": {
      "needs_background": "light"
     },
     "output_type": "display_data"
    }
   ],
   "source": [
    "plt.plot(costs)"
   ]
  },
  {
   "cell_type": "code",
   "execution_count": 190,
   "metadata": {},
   "outputs": [
    {
     "data": {
      "text/plain": [
       "array([1.29961775, 4.9132176 , 4.60811801])"
      ]
     },
     "execution_count": 190,
     "metadata": {},
     "output_type": "execute_result"
    }
   ],
   "source": [
    "params"
   ]
  },
  {
   "cell_type": "markdown",
   "metadata": {},
   "source": [
    "### Метод nesterov momentum"
   ]
  },
  {
   "cell_type": "code",
   "execution_count": 191,
   "metadata": {},
   "outputs": [],
   "source": [
    "# В основном берется значение коэффициента сохранения равное 0.9\n",
    "costs_n=[]\n",
    "predictions_n = []\n",
    "params_n = np.random.normal(size=(3,))\n",
    "momentum = 0.9\n",
    "epochs_n = 100\n",
    "v0 = 0\n",
    "v1 = 0\n",
    "v2 = 0"
   ]
  },
  {
   "cell_type": "code",
   "execution_count": 192,
   "metadata": {},
   "outputs": [
    {
     "name": "stderr",
     "output_type": "stream",
     "text": [
      "<ipython-input-192-db372bee31a2>:9: RuntimeWarning: divide by zero encountered in log\n",
      "  cost_n = - np.sum(y * np.log(prediction_n) + (1-y)*np.log(1-prediction_n)) / (N)\n"
     ]
    }
   ],
   "source": [
    "for _ in range(epochs_n):\n",
    "    old_v0 = v0\n",
    "    old_v1 = v1\n",
    "    old_v2 = v2\n",
    "    \n",
    "    prediction_n = sigmoid(params_n[0] + params_n[1] * x1 + params_n[2] * x2)\n",
    "    predictions_n.append(prediction_n)\n",
    "    \n",
    "    cost_n = - np.sum(y * np.log(prediction_n) + (1-y)*np.log(1-prediction_n)) / (N)\n",
    "    costs_n.append(cost_n)\n",
    "    \n",
    "    v0 = momentum * old_v0 + LEARNING_RATE * (np.sum((prediction_n - y) / len(predictions_n)))\n",
    "    v1 = momentum * old_v1 + LEARNING_RATE * (np.sum((prediction_n - y) * x1 / len(predictions_n)))\n",
    "    v2 = momentum * old_v2 + LEARNING_RATE * (np.sum((prediction_n - y) * x2 / len(predictions_n)))\n",
    "    \n",
    "    \n",
    "    params_n[0] += -v0\n",
    "    params_n[1] += -v1\n",
    "    params_n[2] += -v2"
   ]
  },
  {
   "cell_type": "code",
   "execution_count": 193,
   "metadata": {},
   "outputs": [
    {
     "data": {
      "image/png": "[encoded data removed]",
      "text/plain": [
       "<Figure size 432x288 with 1 Axes>"
      ]
     },
     "metadata": {
      "needs_background": "light"
     },
     "output_type": "display_data"
    }
   ],
   "source": [
    "plt.plot(costs_n)\n",
    "plt.show()"
   ]
  },
  {
   "cell_type": "code",
   "execution_count": 194,
   "metadata": {},
   "outputs": [
    {
     "data": {
      "text/plain": [
       "array([ 5.98975572, 36.95091475, 39.68630401])"
      ]
     },
     "execution_count": 194,
     "metadata": {},
     "output_type": "execute_result"
    }
   ],
   "source": [
    "params_n"
   ]
  },
  {
   "cell_type": "markdown",
   "metadata": {},
   "source": [
    "### Метод rmsprop"
   ]
  },
  {
   "cell_type": "code",
   "execution_count": 195,
   "metadata": {},
   "outputs": [],
   "source": [
    "# В основном берется значение коэффициента сохранения равное 0.9\n",
    "costs_r=[]\n",
    "epochs_r = 1000\n",
    "params_r = np.random.normal(size=(3,))\n",
    "grad_sqr = 0\n",
    "momentum = 0.9"
   ]
  },
  {
   "cell_type": "code",
   "execution_count": 196,
   "metadata": {},
   "outputs": [],
   "source": [
    "for _ in range(epochs_r):\n",
    "    \n",
    "    prediction_r = sigmoid(params_r[0] + params_r[1] * x1 + params_r[2] * x2)\n",
    "    \n",
    "    cost_r = - np.sum(y * np.log(prediction_r) + (1-y)*np.log(1-prediction_r)) / (N)\n",
    "    costs_r.append(cost_r)\n",
    "    \n",
    "    # Находим производные\n",
    "    dt0 = np.sum((prediction_r - y) / len(predictions_r))\n",
    "    dt1 = np.sum((prediction_r - y) * x1 / len(predictions_r))\n",
    "    dt2 = np.sum((prediction_r - y) * x2 / len(predictions_r))\n",
    "    \n",
    "    grad_sqr_0 = momentum * grad_sqr_0 + (1 - momentum) * dt0**2\n",
    "    grad_sqr_1 = momentum * grad_sqr_1 + (1 - momentum) * dt1**2\n",
    "    grad_sqr_2 = momentum * grad_sqr_2 + (1 - momentum) * dt2**2\n",
    "    \n",
    "    params_r[0] += -LEARNING_RATE * dt0 / (np.sqrt(grad_sqr_0) + 1e-7)\n",
    "    params_r[1] += -LEARNING_RATE * dt1 / (np.sqrt(grad_sqr_1) + 1e-7)\n",
    "    params_r[2] += -LEARNING_RATE * dt2 / (np.sqrt(grad_sqr_2) + 1e-7)"
   ]
  },
  {
   "cell_type": "code",
   "execution_count": 197,
   "metadata": {},
   "outputs": [
    {
     "data": {
      "image/png": "[encoded data removed]",
      "text/plain": [
       "<Figure size 432x288 with 1 Axes>"
      ]
     },
     "metadata": {
      "needs_background": "light"
     },
     "output_type": "display_data"
    }
   ],
   "source": [
    "plt.plot(costs_r)\n",
    "plt.show()"
   ]
  },
  {
   "cell_type": "code",
   "execution_count": 198,
   "metadata": {},
   "outputs": [
    {
     "data": {
      "text/plain": [
       "array([ 0.63218281, -0.48781463,  2.07829947])"
      ]
     },
     "execution_count": 198,
     "metadata": {},
     "output_type": "execute_result"
    }
   ],
   "source": [
    "params_r"
   ]
  },
  {
   "cell_type": "code",
   "execution_count": null,
   "metadata": {},
   "outputs": [],
   "source": []
  }
 ],
 "metadata": {
  "kernelspec": {
   "display_name": "Python 3",
   "language": "python",
   "name": "python3"
  },
  "language_info": {
   "codemirror_mode": {
    "name": "ipython",
    "version": 3
   },
   "file_extension": ".py",
   "mimetype": "text/x-python",
   "name": "python",
   "nbconvert_exporter": "python",
   "pygments_lexer": "ipython3",
   "version": "3.9.0"
  }
 },
 "nbformat": 4,
 "nbformat_minor": 4
}

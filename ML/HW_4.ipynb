{
 "cells": [
  {
   "cell_type": "code",
   "execution_count": 35,
   "metadata": {},
   "outputs": [],
   "source": [
    "import numpy as np\n",
    "import pandas as pd\n",
    "\n",
    "from sklearn.linear_model import LinearRegression\n",
    "from sklearn.metrics import mean_absolute_error\n",
    "\n",
    "from sklearn.pipeline import make_pipeline # используем пайплайны для удобства\n",
    "from sklearn.preprocessing import StandardScaler"
   ]
  },
  {
   "cell_type": "markdown",
   "metadata": {},
   "source": [
    "### Создадим искуственный датасет на 3 000 наблюдений"
   ]
  },
  {
   "cell_type": "code",
   "execution_count": 19,
   "metadata": {},
   "outputs": [
    {
     "data": {
      "text/html": [
       "<div>\n",
       "<style scoped>\n",
       "    .dataframe tbody tr th:only-of-type {\n",
       "        vertical-align: middle;\n",
       "    }\n",
       "\n",
       "    .dataframe tbody tr th {\n",
       "        vertical-align: top;\n",
       "    }\n",
       "\n",
       "    .dataframe thead th {\n",
       "        text-align: right;\n",
       "    }\n",
       "</style>\n",
       "<table border=\"1\" class=\"dataframe\">\n",
       "  <thead>\n",
       "    <tr style=\"text-align: right;\">\n",
       "      <th></th>\n",
       "      <th>flat_price</th>\n",
       "      <th>square</th>\n",
       "      <th>area</th>\n",
       "      <th>floor</th>\n",
       "    </tr>\n",
       "  </thead>\n",
       "  <tbody>\n",
       "    <tr>\n",
       "      <th>0</th>\n",
       "      <td>121350</td>\n",
       "      <td>173</td>\n",
       "      <td>1</td>\n",
       "      <td>7</td>\n",
       "    </tr>\n",
       "    <tr>\n",
       "      <th>1</th>\n",
       "      <td>86650</td>\n",
       "      <td>96</td>\n",
       "      <td>14</td>\n",
       "      <td>9</td>\n",
       "    </tr>\n",
       "    <tr>\n",
       "      <th>2</th>\n",
       "      <td>3550</td>\n",
       "      <td>11</td>\n",
       "      <td>5</td>\n",
       "      <td>3</td>\n",
       "    </tr>\n",
       "    <tr>\n",
       "      <th>3</th>\n",
       "      <td>250</td>\n",
       "      <td>76</td>\n",
       "      <td>1</td>\n",
       "      <td>0</td>\n",
       "    </tr>\n",
       "    <tr>\n",
       "      <th>4</th>\n",
       "      <td>14250</td>\n",
       "      <td>140</td>\n",
       "      <td>13</td>\n",
       "      <td>1</td>\n",
       "    </tr>\n",
       "  </tbody>\n",
       "</table>\n",
       "</div>"
      ],
      "text/plain": [
       "   flat_price  square  area  floor\n",
       "0      121350     173     1      7\n",
       "1       86650      96    14      9\n",
       "2        3550      11     5      3\n",
       "3         250      76     1      0\n",
       "4       14250     140    13      1"
      ]
     },
     "execution_count": 19,
     "metadata": {},
     "output_type": "execute_result"
    }
   ],
   "source": [
    "samples = 3000\n",
    "\n",
    "# площадь\n",
    "square = np.random.choice(200, samples)\n",
    "# код района\n",
    "area = np.random.choice(15, samples)\n",
    "# этаж\n",
    "floor = np.random.choice(10, samples)\n",
    "# цена квартиры\n",
    "flat_price = square * floor * 100 + 250\n",
    "\n",
    "data = pd.DataFrame({'flat_price': flat_price, 'square': square, 'area': area, 'floor': floor})\n",
    "data.head(5)"
   ]
  },
  {
   "cell_type": "code",
   "execution_count": 66,
   "metadata": {},
   "outputs": [
    {
     "data": {
      "text/html": [
       "<div>\n",
       "<style scoped>\n",
       "    .dataframe tbody tr th:only-of-type {\n",
       "        vertical-align: middle;\n",
       "    }\n",
       "\n",
       "    .dataframe tbody tr th {\n",
       "        vertical-align: top;\n",
       "    }\n",
       "\n",
       "    .dataframe thead th {\n",
       "        text-align: right;\n",
       "    }\n",
       "</style>\n",
       "<table border=\"1\" class=\"dataframe\">\n",
       "  <thead>\n",
       "    <tr style=\"text-align: right;\">\n",
       "      <th></th>\n",
       "      <th>flat_price</th>\n",
       "      <th>square</th>\n",
       "      <th>area</th>\n",
       "      <th>floor</th>\n",
       "      <th>utility</th>\n",
       "    </tr>\n",
       "  </thead>\n",
       "  <tbody>\n",
       "    <tr>\n",
       "      <th>count</th>\n",
       "      <td>3000.000000</td>\n",
       "      <td>3000.000000</td>\n",
       "      <td>3000.000000</td>\n",
       "      <td>3000.000000</td>\n",
       "      <td>3000.000000</td>\n",
       "    </tr>\n",
       "    <tr>\n",
       "      <th>mean</th>\n",
       "      <td>43903.866667</td>\n",
       "      <td>98.500333</td>\n",
       "      <td>7.018333</td>\n",
       "      <td>4.385333</td>\n",
       "      <td>686.538667</td>\n",
       "    </tr>\n",
       "    <tr>\n",
       "      <th>std</th>\n",
       "      <td>41603.709385</td>\n",
       "      <td>57.267459</td>\n",
       "      <td>4.336542</td>\n",
       "      <td>2.883567</td>\n",
       "      <td>416.037094</td>\n",
       "    </tr>\n",
       "    <tr>\n",
       "      <th>min</th>\n",
       "      <td>250.000000</td>\n",
       "      <td>0.000000</td>\n",
       "      <td>0.000000</td>\n",
       "      <td>0.000000</td>\n",
       "      <td>250.000000</td>\n",
       "    </tr>\n",
       "    <tr>\n",
       "      <th>25%</th>\n",
       "      <td>9250.000000</td>\n",
       "      <td>49.000000</td>\n",
       "      <td>3.000000</td>\n",
       "      <td>2.000000</td>\n",
       "      <td>340.000000</td>\n",
       "    </tr>\n",
       "    <tr>\n",
       "      <th>50%</th>\n",
       "      <td>32250.000000</td>\n",
       "      <td>98.000000</td>\n",
       "      <td>7.000000</td>\n",
       "      <td>4.000000</td>\n",
       "      <td>570.000000</td>\n",
       "    </tr>\n",
       "    <tr>\n",
       "      <th>75%</th>\n",
       "      <td>68075.000000</td>\n",
       "      <td>147.000000</td>\n",
       "      <td>11.000000</td>\n",
       "      <td>7.000000</td>\n",
       "      <td>928.250000</td>\n",
       "    </tr>\n",
       "    <tr>\n",
       "      <th>max</th>\n",
       "      <td>179350.000000</td>\n",
       "      <td>199.000000</td>\n",
       "      <td>14.000000</td>\n",
       "      <td>9.000000</td>\n",
       "      <td>2041.000000</td>\n",
       "    </tr>\n",
       "  </tbody>\n",
       "</table>\n",
       "</div>"
      ],
      "text/plain": [
       "          flat_price       square         area        floor      utility\n",
       "count    3000.000000  3000.000000  3000.000000  3000.000000  3000.000000\n",
       "mean    43903.866667    98.500333     7.018333     4.385333   686.538667\n",
       "std     41603.709385    57.267459     4.336542     2.883567   416.037094\n",
       "min       250.000000     0.000000     0.000000     0.000000   250.000000\n",
       "25%      9250.000000    49.000000     3.000000     2.000000   340.000000\n",
       "50%     32250.000000    98.000000     7.000000     4.000000   570.000000\n",
       "75%     68075.000000   147.000000    11.000000     7.000000   928.250000\n",
       "max    179350.000000   199.000000    14.000000     9.000000  2041.000000"
      ]
     },
     "execution_count": 66,
     "metadata": {},
     "output_type": "execute_result"
    }
   ],
   "source": [
    "# Основные статистики\n",
    "data.describe()"
   ]
  },
  {
   "cell_type": "markdown",
   "metadata": {},
   "source": [
    "### Вариант 1: Обучим модель на этих данных"
   ]
  },
  {
   "cell_type": "code",
   "execution_count": 54,
   "metadata": {},
   "outputs": [
    {
     "name": "stdout",
     "output_type": "stream",
     "text": [
      "Weights: [ 432.98084951  -48.49078484 9847.03265095]\n",
      "Bias: -41587.08736397824\n",
      "Error: 12292.403632883708\n",
      "Score: 0.8437213502101185\n"
     ]
    }
   ],
   "source": [
    "x = data[['square', 'area', 'floor']]\n",
    "y = data['flat_price']\n",
    "reg = LinearRegression().fit(x, y)\n",
    "print('Weights: {}'.format(reg.coef_))\n",
    "print('Bias: {}'.format(reg.intercept_))\n",
    "\n",
    "pred_values = reg.predict(data[['square', 'area', 'floor']])\n",
    "print('Error: {}'.format(mean_absolute_error(pred_values, y)))\n",
    "print('Score: {}'.format(reg.score(x,y)))"
   ]
  },
  {
   "cell_type": "code",
   "execution_count": 55,
   "metadata": {},
   "outputs": [
    {
     "data": {
      "text/plain": [
       "32250.0"
      ]
     },
     "execution_count": 55,
     "metadata": {},
     "output_type": "execute_result"
    }
   ],
   "source": [
    "y.median()"
   ]
  },
  {
   "cell_type": "markdown",
   "metadata": {},
   "source": [
    "### Вариант 2: Создадим новый признак, значение которого в разы больше square, area, floor и обучим модель"
   ]
  },
  {
   "cell_type": "code",
   "execution_count": 25,
   "metadata": {},
   "outputs": [
    {
     "data": {
      "text/html": [
       "<div>\n",
       "<style scoped>\n",
       "    .dataframe tbody tr th:only-of-type {\n",
       "        vertical-align: middle;\n",
       "    }\n",
       "\n",
       "    .dataframe tbody tr th {\n",
       "        vertical-align: top;\n",
       "    }\n",
       "\n",
       "    .dataframe thead th {\n",
       "        text-align: right;\n",
       "    }\n",
       "</style>\n",
       "<table border=\"1\" class=\"dataframe\">\n",
       "  <thead>\n",
       "    <tr style=\"text-align: right;\">\n",
       "      <th></th>\n",
       "      <th>flat_price</th>\n",
       "      <th>square</th>\n",
       "      <th>area</th>\n",
       "      <th>floor</th>\n",
       "      <th>utility</th>\n",
       "    </tr>\n",
       "  </thead>\n",
       "  <tbody>\n",
       "    <tr>\n",
       "      <th>0</th>\n",
       "      <td>121350</td>\n",
       "      <td>173</td>\n",
       "      <td>1</td>\n",
       "      <td>7</td>\n",
       "      <td>1461</td>\n",
       "    </tr>\n",
       "    <tr>\n",
       "      <th>1</th>\n",
       "      <td>86650</td>\n",
       "      <td>96</td>\n",
       "      <td>14</td>\n",
       "      <td>9</td>\n",
       "      <td>1114</td>\n",
       "    </tr>\n",
       "    <tr>\n",
       "      <th>2</th>\n",
       "      <td>3550</td>\n",
       "      <td>11</td>\n",
       "      <td>5</td>\n",
       "      <td>3</td>\n",
       "      <td>283</td>\n",
       "    </tr>\n",
       "    <tr>\n",
       "      <th>3</th>\n",
       "      <td>250</td>\n",
       "      <td>76</td>\n",
       "      <td>1</td>\n",
       "      <td>0</td>\n",
       "      <td>250</td>\n",
       "    </tr>\n",
       "    <tr>\n",
       "      <th>4</th>\n",
       "      <td>14250</td>\n",
       "      <td>140</td>\n",
       "      <td>13</td>\n",
       "      <td>1</td>\n",
       "      <td>390</td>\n",
       "    </tr>\n",
       "  </tbody>\n",
       "</table>\n",
       "</div>"
      ],
      "text/plain": [
       "   flat_price  square  area  floor  utility\n",
       "0      121350     173     1      7     1461\n",
       "1       86650      96    14      9     1114\n",
       "2        3550      11     5      3      283\n",
       "3         250      76     1      0      250\n",
       "4       14250     140    13      1      390"
      ]
     },
     "execution_count": 25,
     "metadata": {},
     "output_type": "execute_result"
    }
   ],
   "source": [
    "data['utility'] = data['square'] * data['floor'] + 250\n",
    "data.head(5)"
   ]
  },
  {
   "cell_type": "code",
   "execution_count": 86,
   "metadata": {},
   "outputs": [
    {
     "data": {
      "text/html": [
       "<div>\n",
       "<style scoped>\n",
       "    .dataframe tbody tr th:only-of-type {\n",
       "        vertical-align: middle;\n",
       "    }\n",
       "\n",
       "    .dataframe tbody tr th {\n",
       "        vertical-align: top;\n",
       "    }\n",
       "\n",
       "    .dataframe thead th {\n",
       "        text-align: right;\n",
       "    }\n",
       "</style>\n",
       "<table border=\"1\" class=\"dataframe\">\n",
       "  <thead>\n",
       "    <tr style=\"text-align: right;\">\n",
       "      <th></th>\n",
       "      <th>flat_price</th>\n",
       "      <th>square</th>\n",
       "      <th>area</th>\n",
       "      <th>floor</th>\n",
       "      <th>utility</th>\n",
       "    </tr>\n",
       "  </thead>\n",
       "  <tbody>\n",
       "    <tr>\n",
       "      <th>302</th>\n",
       "      <td>9250</td>\n",
       "      <td>30</td>\n",
       "      <td>7</td>\n",
       "      <td>3</td>\n",
       "      <td>340</td>\n",
       "    </tr>\n",
       "    <tr>\n",
       "      <th>392</th>\n",
       "      <td>3250</td>\n",
       "      <td>30</td>\n",
       "      <td>10</td>\n",
       "      <td>1</td>\n",
       "      <td>280</td>\n",
       "    </tr>\n",
       "    <tr>\n",
       "      <th>512</th>\n",
       "      <td>6250</td>\n",
       "      <td>30</td>\n",
       "      <td>0</td>\n",
       "      <td>2</td>\n",
       "      <td>310</td>\n",
       "    </tr>\n",
       "    <tr>\n",
       "      <th>734</th>\n",
       "      <td>9250</td>\n",
       "      <td>30</td>\n",
       "      <td>3</td>\n",
       "      <td>3</td>\n",
       "      <td>340</td>\n",
       "    </tr>\n",
       "    <tr>\n",
       "      <th>1992</th>\n",
       "      <td>27250</td>\n",
       "      <td>30</td>\n",
       "      <td>4</td>\n",
       "      <td>9</td>\n",
       "      <td>520</td>\n",
       "    </tr>\n",
       "    <tr>\n",
       "      <th>2101</th>\n",
       "      <td>9250</td>\n",
       "      <td>30</td>\n",
       "      <td>6</td>\n",
       "      <td>3</td>\n",
       "      <td>340</td>\n",
       "    </tr>\n",
       "    <tr>\n",
       "      <th>2303</th>\n",
       "      <td>9250</td>\n",
       "      <td>30</td>\n",
       "      <td>3</td>\n",
       "      <td>3</td>\n",
       "      <td>340</td>\n",
       "    </tr>\n",
       "    <tr>\n",
       "      <th>2441</th>\n",
       "      <td>3250</td>\n",
       "      <td>30</td>\n",
       "      <td>7</td>\n",
       "      <td>1</td>\n",
       "      <td>280</td>\n",
       "    </tr>\n",
       "    <tr>\n",
       "      <th>2720</th>\n",
       "      <td>27250</td>\n",
       "      <td>30</td>\n",
       "      <td>11</td>\n",
       "      <td>9</td>\n",
       "      <td>520</td>\n",
       "    </tr>\n",
       "    <tr>\n",
       "      <th>2742</th>\n",
       "      <td>27250</td>\n",
       "      <td>30</td>\n",
       "      <td>11</td>\n",
       "      <td>9</td>\n",
       "      <td>520</td>\n",
       "    </tr>\n",
       "    <tr>\n",
       "      <th>2772</th>\n",
       "      <td>250</td>\n",
       "      <td>30</td>\n",
       "      <td>4</td>\n",
       "      <td>0</td>\n",
       "      <td>250</td>\n",
       "    </tr>\n",
       "    <tr>\n",
       "      <th>2970</th>\n",
       "      <td>6250</td>\n",
       "      <td>30</td>\n",
       "      <td>11</td>\n",
       "      <td>2</td>\n",
       "      <td>310</td>\n",
       "    </tr>\n",
       "  </tbody>\n",
       "</table>\n",
       "</div>"
      ],
      "text/plain": [
       "      flat_price  square  area  floor  utility\n",
       "302         9250      30     7      3      340\n",
       "392         3250      30    10      1      280\n",
       "512         6250      30     0      2      310\n",
       "734         9250      30     3      3      340\n",
       "1992       27250      30     4      9      520\n",
       "2101        9250      30     6      3      340\n",
       "2303        9250      30     3      3      340\n",
       "2441        3250      30     7      1      280\n",
       "2720       27250      30    11      9      520\n",
       "2742       27250      30    11      9      520\n",
       "2772         250      30     4      0      250\n",
       "2970        6250      30    11      2      310"
      ]
     },
     "execution_count": 86,
     "metadata": {},
     "output_type": "execute_result"
    }
   ],
   "source": [
    "data.loc[(data['square'] == 30)]"
   ]
  },
  {
   "cell_type": "code",
   "execution_count": 56,
   "metadata": {},
   "outputs": [
    {
     "name": "stdout",
     "output_type": "stream",
     "text": [
      "Weights: [ 5.12989074e-13 -3.76587650e-12 -1.44047968e-12  1.00000000e+02]\n",
      "Bias: -24749.99999999997\n",
      "Error: 2.5487679522484542e-11\n",
      "Score: 1.0\n"
     ]
    }
   ],
   "source": [
    "x1 = data[['square', 'area', 'floor', 'utility']]\n",
    "y1 = data['flat_price']\n",
    "reg1 = LinearRegression().fit(x1, y1)\n",
    "print('Weights: {}'.format(reg1.coef_))\n",
    "print('Bias: {}'.format(reg1.intercept_))\n",
    "\n",
    "pred_values_1 = reg1.predict(data[['square', 'area', 'floor', 'utility']])\n",
    "print('Error: {}'.format(mean_absolute_error(pred_values_1, y1)))\n",
    "print('Score: {}'.format(reg1.score(x1,y1)))"
   ]
  },
  {
   "cell_type": "code",
   "execution_count": 57,
   "metadata": {},
   "outputs": [
    {
     "data": {
      "text/plain": [
       "32250.0"
      ]
     },
     "execution_count": 57,
     "metadata": {},
     "output_type": "execute_result"
    }
   ],
   "source": [
    "y1.median()"
   ]
  },
  {
   "cell_type": "markdown",
   "metadata": {},
   "source": [
    "### Вариант 3: Используем StandardScaler, чтобы привести все наши x данные к одному масштабу"
   ]
  },
  {
   "cell_type": "code",
   "execution_count": 61,
   "metadata": {},
   "outputs": [],
   "source": [
    "x2 = data[['square', 'area', 'floor', 'utility']]\n",
    "y2 = data['flat_price']\n",
    "scaler = StandardScaler()\n",
    "reg2 = LinearRegression().fit(scaler.fit_transform(x2), y2)"
   ]
  },
  {
   "cell_type": "code",
   "execution_count": 63,
   "metadata": {},
   "outputs": [
    {
     "name": "stdout",
     "output_type": "stream",
     "text": [
      "Weights: [ 3.97492600e-12  0.00000000e+00 -1.84172677e-11  4.15967749e+04]\n",
      "Bias: 43903.866666666676\n",
      "Error: 3.3551865878204506e-11\n",
      "Score: 1.0\n"
     ]
    }
   ],
   "source": [
    "print('Weights: {}'.format(reg2.coef_))\n",
    "print('Bias: {}'.format(reg2.intercept_))\n",
    "\n",
    "pred_values_2 = reg2.predict(scaler.fit_transform(x2))\n",
    "print('Error: {}'.format(mean_absolute_error(pred_values_2, y2)))\n",
    "print('Score: {}'.format(reg2.score(scaler.fit_transform(x2),y2)))"
   ]
  },
  {
   "cell_type": "code",
   "execution_count": 65,
   "metadata": {},
   "outputs": [
    {
     "data": {
      "text/plain": [
       "32250.0"
      ]
     },
     "execution_count": 65,
     "metadata": {},
     "output_type": "execute_result"
    }
   ],
   "source": [
    "y2.median()"
   ]
  },
  {
   "cell_type": "markdown",
   "metadata": {},
   "source": [
    "### Вариант 4: Добавим в наш столбец с данными по площади квартиры / помещения несколько выбросов на 5000 квадратных метров. Посмотри статистики и обучим модель"
   ]
  },
  {
   "cell_type": "code",
   "execution_count": 129,
   "metadata": {},
   "outputs": [],
   "source": [
    "data_new = data"
   ]
  },
  {
   "cell_type": "code",
   "execution_count": 130,
   "metadata": {},
   "outputs": [],
   "source": [
    "data_new = data_new.replace(to_replace = {'square': {55:5000}})"
   ]
  },
  {
   "cell_type": "code",
   "execution_count": 132,
   "metadata": {},
   "outputs": [
    {
     "data": {
      "text/html": [
       "<div>\n",
       "<style scoped>\n",
       "    .dataframe tbody tr th:only-of-type {\n",
       "        vertical-align: middle;\n",
       "    }\n",
       "\n",
       "    .dataframe tbody tr th {\n",
       "        vertical-align: top;\n",
       "    }\n",
       "\n",
       "    .dataframe thead th {\n",
       "        text-align: right;\n",
       "    }\n",
       "</style>\n",
       "<table border=\"1\" class=\"dataframe\">\n",
       "  <thead>\n",
       "    <tr style=\"text-align: right;\">\n",
       "      <th></th>\n",
       "      <th>flat_price</th>\n",
       "      <th>square</th>\n",
       "      <th>area</th>\n",
       "      <th>floor</th>\n",
       "      <th>utility</th>\n",
       "    </tr>\n",
       "  </thead>\n",
       "  <tbody>\n",
       "    <tr>\n",
       "      <th>1023</th>\n",
       "      <td>44250</td>\n",
       "      <td>5000</td>\n",
       "      <td>1</td>\n",
       "      <td>8</td>\n",
       "      <td>690</td>\n",
       "    </tr>\n",
       "    <tr>\n",
       "      <th>1079</th>\n",
       "      <td>250</td>\n",
       "      <td>5000</td>\n",
       "      <td>9</td>\n",
       "      <td>0</td>\n",
       "      <td>250</td>\n",
       "    </tr>\n",
       "    <tr>\n",
       "      <th>1441</th>\n",
       "      <td>44250</td>\n",
       "      <td>5000</td>\n",
       "      <td>12</td>\n",
       "      <td>8</td>\n",
       "      <td>690</td>\n",
       "    </tr>\n",
       "    <tr>\n",
       "      <th>1478</th>\n",
       "      <td>250</td>\n",
       "      <td>5000</td>\n",
       "      <td>0</td>\n",
       "      <td>0</td>\n",
       "      <td>250</td>\n",
       "    </tr>\n",
       "    <tr>\n",
       "      <th>1603</th>\n",
       "      <td>38750</td>\n",
       "      <td>5000</td>\n",
       "      <td>10</td>\n",
       "      <td>7</td>\n",
       "      <td>635</td>\n",
       "    </tr>\n",
       "    <tr>\n",
       "      <th>2249</th>\n",
       "      <td>250</td>\n",
       "      <td>5000</td>\n",
       "      <td>6</td>\n",
       "      <td>0</td>\n",
       "      <td>250</td>\n",
       "    </tr>\n",
       "  </tbody>\n",
       "</table>\n",
       "</div>"
      ],
      "text/plain": [
       "      flat_price  square  area  floor  utility\n",
       "1023       44250    5000     1      8      690\n",
       "1079         250    5000     9      0      250\n",
       "1441       44250    5000    12      8      690\n",
       "1478         250    5000     0      0      250\n",
       "1603       38750    5000    10      7      635\n",
       "2249         250    5000     6      0      250"
      ]
     },
     "execution_count": 132,
     "metadata": {},
     "output_type": "execute_result"
    }
   ],
   "source": [
    "data_new.loc[(data_new['square'] == 5000)]"
   ]
  },
  {
   "cell_type": "code",
   "execution_count": 133,
   "metadata": {},
   "outputs": [
    {
     "data": {
      "text/html": [
       "<div>\n",
       "<style scoped>\n",
       "    .dataframe tbody tr th:only-of-type {\n",
       "        vertical-align: middle;\n",
       "    }\n",
       "\n",
       "    .dataframe tbody tr th {\n",
       "        vertical-align: top;\n",
       "    }\n",
       "\n",
       "    .dataframe thead th {\n",
       "        text-align: right;\n",
       "    }\n",
       "</style>\n",
       "<table border=\"1\" class=\"dataframe\">\n",
       "  <thead>\n",
       "    <tr style=\"text-align: right;\">\n",
       "      <th></th>\n",
       "      <th>flat_price</th>\n",
       "      <th>square</th>\n",
       "      <th>area</th>\n",
       "      <th>floor</th>\n",
       "      <th>utility</th>\n",
       "    </tr>\n",
       "  </thead>\n",
       "  <tbody>\n",
       "    <tr>\n",
       "      <th>count</th>\n",
       "      <td>3000.000000</td>\n",
       "      <td>3000.000000</td>\n",
       "      <td>3000.000000</td>\n",
       "      <td>3000.000000</td>\n",
       "      <td>3000.000000</td>\n",
       "    </tr>\n",
       "    <tr>\n",
       "      <th>mean</th>\n",
       "      <td>43903.866667</td>\n",
       "      <td>108.390333</td>\n",
       "      <td>7.018333</td>\n",
       "      <td>4.385333</td>\n",
       "      <td>686.538667</td>\n",
       "    </tr>\n",
       "    <tr>\n",
       "      <th>std</th>\n",
       "      <td>41603.709385</td>\n",
       "      <td>226.369943</td>\n",
       "      <td>4.336542</td>\n",
       "      <td>2.883567</td>\n",
       "      <td>416.037094</td>\n",
       "    </tr>\n",
       "    <tr>\n",
       "      <th>min</th>\n",
       "      <td>250.000000</td>\n",
       "      <td>0.000000</td>\n",
       "      <td>0.000000</td>\n",
       "      <td>0.000000</td>\n",
       "      <td>250.000000</td>\n",
       "    </tr>\n",
       "    <tr>\n",
       "      <th>25%</th>\n",
       "      <td>9250.000000</td>\n",
       "      <td>49.000000</td>\n",
       "      <td>3.000000</td>\n",
       "      <td>2.000000</td>\n",
       "      <td>340.000000</td>\n",
       "    </tr>\n",
       "    <tr>\n",
       "      <th>50%</th>\n",
       "      <td>32250.000000</td>\n",
       "      <td>98.000000</td>\n",
       "      <td>7.000000</td>\n",
       "      <td>4.000000</td>\n",
       "      <td>570.000000</td>\n",
       "    </tr>\n",
       "    <tr>\n",
       "      <th>75%</th>\n",
       "      <td>68075.000000</td>\n",
       "      <td>147.000000</td>\n",
       "      <td>11.000000</td>\n",
       "      <td>7.000000</td>\n",
       "      <td>928.250000</td>\n",
       "    </tr>\n",
       "    <tr>\n",
       "      <th>max</th>\n",
       "      <td>179350.000000</td>\n",
       "      <td>5000.000000</td>\n",
       "      <td>14.000000</td>\n",
       "      <td>9.000000</td>\n",
       "      <td>2041.000000</td>\n",
       "    </tr>\n",
       "  </tbody>\n",
       "</table>\n",
       "</div>"
      ],
      "text/plain": [
       "          flat_price       square         area        floor      utility\n",
       "count    3000.000000  3000.000000  3000.000000  3000.000000  3000.000000\n",
       "mean    43903.866667   108.390333     7.018333     4.385333   686.538667\n",
       "std     41603.709385   226.369943     4.336542     2.883567   416.037094\n",
       "min       250.000000     0.000000     0.000000     0.000000   250.000000\n",
       "25%      9250.000000    49.000000     3.000000     2.000000   340.000000\n",
       "50%     32250.000000    98.000000     7.000000     4.000000   570.000000\n",
       "75%     68075.000000   147.000000    11.000000     7.000000   928.250000\n",
       "max    179350.000000  5000.000000    14.000000     9.000000  2041.000000"
      ]
     },
     "execution_count": 133,
     "metadata": {},
     "output_type": "execute_result"
    }
   ],
   "source": [
    "# Основные статистики\n",
    "data_new.describe()"
   ]
  },
  {
   "cell_type": "code",
   "execution_count": 134,
   "metadata": {},
   "outputs": [
    {
     "name": "stdout",
     "output_type": "stream",
     "text": [
      "Weights: [-2.00673323e-14 -3.55271368e-13 -2.56177805e-12  1.00000000e+02]\n",
      "Bias: -24749.999999999956\n",
      "Error: 1.903633043790857e-11\n",
      "Score: 1.0\n"
     ]
    }
   ],
   "source": [
    "x3 = data_new[['square', 'area', 'floor', 'utility']]\n",
    "y3 = data_new['flat_price']\n",
    "reg3 = LinearRegression().fit(x3, y3)\n",
    "print('Weights: {}'.format(reg3.coef_))\n",
    "print('Bias: {}'.format(reg3.intercept_))\n",
    "\n",
    "pred_values_3 = reg3.predict(data_new[['square', 'area', 'floor', 'utility']])\n",
    "print('Error: {}'.format(mean_absolute_error(pred_values_3, y3)))\n",
    "print('Score: {}'.format(reg3.score(x3,y3)))"
   ]
  },
  {
   "cell_type": "markdown",
   "metadata": {},
   "source": [
    "### Вариант 5: Применим к новому датафрейму с выбросами Standart Scaler"
   ]
  },
  {
   "cell_type": "code",
   "execution_count": 135,
   "metadata": {},
   "outputs": [],
   "source": [
    "x4 = data_new[['square', 'area', 'floor', 'utility']]\n",
    "y4 = data_new['flat_price']\n",
    "scaler = StandardScaler()\n",
    "reg4 = LinearRegression().fit(scaler.fit_transform(x4), y4)"
   ]
  },
  {
   "cell_type": "code",
   "execution_count": 136,
   "metadata": {},
   "outputs": [
    {
     "name": "stdout",
     "output_type": "stream",
     "text": [
      "Weights: [-1.06767277e-11 -7.27595761e-12 -7.67386155e-12  4.15967749e+04]\n",
      "Bias: 43903.866666666676\n",
      "Error: 2.3572890010351936e-11\n",
      "Score: 1.0\n"
     ]
    }
   ],
   "source": [
    "print('Weights: {}'.format(reg4.coef_))\n",
    "print('Bias: {}'.format(reg4.intercept_))\n",
    "\n",
    "pred_values_4 = reg4.predict(scaler.fit_transform(x4))\n",
    "print('Error: {}'.format(mean_absolute_error(pred_values_4, y4)))\n",
    "print('Score: {}'.format(reg4.score(scaler.fit_transform(x4),y4)))"
   ]
  },
  {
   "cell_type": "markdown",
   "metadata": {},
   "source": [
    "#### Данный вариант похож на вариант 3. Те же характеристики по параметрам перед признаками, ошибкой."
   ]
  },
  {
   "cell_type": "code",
   "execution_count": null,
   "metadata": {},
   "outputs": [],
   "source": []
  }
 ],
 "metadata": {
  "kernelspec": {
   "display_name": "Python 3",
   "language": "python",
   "name": "python3"
  },
  "language_info": {
   "codemirror_mode": {
    "name": "ipython",
    "version": 3
   },
   "file_extension": ".py",
   "mimetype": "text/x-python",
   "name": "python",
   "nbconvert_exporter": "python",
   "pygments_lexer": "ipython3",
   "version": "3.9.0"
  }
 },
 "nbformat": 4,
 "nbformat_minor": 4
}

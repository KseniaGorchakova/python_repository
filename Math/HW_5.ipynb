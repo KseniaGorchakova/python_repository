{
 "cells": [
  {
   "cell_type": "code",
   "execution_count": 66,
   "metadata": {},
   "outputs": [],
   "source": [
    "import numpy as np\n",
    "from scipy.optimize import approx_fprime\n",
    "from scipy.misc import derivative \n",
    "from sympy import *\n",
    "from scipy.optimize import minimize"
   ]
  },
  {
   "cell_type": "markdown",
   "metadata": {},
   "source": [
    "### Уровень 0:\n",
    "#### Посчитайте частные производные функций:\n",
    "#### 1) f(x,y)=2x^2y^3 + 1/x + y^2x + 7, а для этой функции также градиент в точке (1,2)\n",
    "#### 2) f(x,y)=x^2y - sin(xy) + cos(x^2) + 6y"
   ]
  },
  {
   "cell_type": "code",
   "execution_count": 65,
   "metadata": {},
   "outputs": [],
   "source": [
    "x,y,x_1, y_1 = symbols('x y x_1 y_1')"
   ]
  },
  {
   "cell_type": "code",
   "execution_count": 68,
   "metadata": {},
   "outputs": [],
   "source": [
    "f_1 = 2*x**2*y**3 + 1/x + x*y**2 + 7\n",
    "f_2 = x_1**2*y_1 - sin(x_1*y_1) + cos(x_1**2) + 6*y_1"
   ]
  },
  {
   "cell_type": "code",
   "execution_count": 69,
   "metadata": {},
   "outputs": [
    {
     "name": "stdout",
     "output_type": "stream",
     "text": [
      "Частная производная по x : 4*x*y**3 + y**2 - 1/x**2\n",
      "Частная производная по y : 6*x**2*y**2 + 2*x*y\n"
     ]
    }
   ],
   "source": [
    "dif_1 = diff(f_1, x)\n",
    "dif_2 = diff(f_1, y)\n",
    "print(\"Частная производная по x : {}\".format(dif_1))\n",
    "print(\"Частная производная по y : {}\".format(dif_2))"
   ]
  },
  {
   "cell_type": "code",
   "execution_count": 70,
   "metadata": {},
   "outputs": [
    {
     "name": "stdout",
     "output_type": "stream",
     "text": [
      "Частная производная по x_1 : 2*x_1*y_1 - 2*x_1*sin(x_1**2) - y_1*cos(x_1*y_1)\n",
      "Частная производная по y_1 : x_1**2 - x_1*cos(x_1*y_1) + 6\n"
     ]
    }
   ],
   "source": [
    "dif_3 = diff(f_2, x_1)\n",
    "dif_4 = diff(f_2, y_1)\n",
    "print(\"Частная производная по x_1 : {}\".format(dif_3))\n",
    "print(\"Частная производная по y_1 : {}\".format(dif_4))"
   ]
  },
  {
   "cell_type": "code",
   "execution_count": 72,
   "metadata": {},
   "outputs": [],
   "source": [
    "x_ = np.array([1,2]) # Градиент в точке (1,2)\n",
    "eps = np.sqrt(np.finfo(float).eps)"
   ]
  },
  {
   "cell_type": "code",
   "execution_count": 74,
   "metadata": {},
   "outputs": [],
   "source": [
    "def func(x_):\n",
    "    return 2*x_[0]**2*x_[1]**3 + 1/x_[0] + x_[0]*x_[1]**2 + 7 \n",
    "# Первая производная функции f_1 по x, в которую подставлены значения градиенты вместо x и y"
   ]
  },
  {
   "cell_type": "code",
   "execution_count": 76,
   "metadata": {},
   "outputs": [
    {
     "data": {
      "text/plain": [
       "array([35.00000024, 28.00000024])"
      ]
     },
     "execution_count": 76,
     "metadata": {},
     "output_type": "execute_result"
    }
   ],
   "source": [
    "approx_fprime(x_, func, [eps, eps])"
   ]
  },
  {
   "cell_type": "markdown",
   "metadata": {},
   "source": [
    "### Уровень 1:\n",
    "#### Градиентный спуск своими руками:"
   ]
  },
  {
   "cell_type": "code",
   "execution_count": 109,
   "metadata": {},
   "outputs": [],
   "source": [
    "def f_(x__):\n",
    "    return (x_[0]**2) + (x_[1]**2)"
   ]
  },
  {
   "cell_type": "code",
   "execution_count": 117,
   "metadata": {},
   "outputs": [],
   "source": [
    "x_current = np.array([100, 200])\n",
    "x_previos = np.array([100, 200])\n",
    "learning_rate = 0.1"
   ]
  },
  {
   "cell_type": "code",
   "execution_count": 120,
   "metadata": {},
   "outputs": [
    {
     "data": {
      "text/plain": [
       "array([0., 0.])"
      ]
     },
     "execution_count": 120,
     "metadata": {},
     "output_type": "execute_result"
    }
   ],
   "source": [
    "grad = approx_fprime(x_previos, f_, [eps, eps])\n",
    "grad"
   ]
  },
  {
   "cell_type": "code",
   "execution_count": 121,
   "metadata": {},
   "outputs": [
    {
     "data": {
      "text/plain": [
       "array([100., 200.])"
      ]
     },
     "execution_count": 121,
     "metadata": {},
     "output_type": "execute_result"
    }
   ],
   "source": [
    "x_current = x_previos - learning_rate*grad\n",
    "x_current"
   ]
  },
  {
   "cell_type": "code",
   "execution_count": 118,
   "metadata": {},
   "outputs": [],
   "source": [
    "for i in range(100):\n",
    "    # Calculate gradient\n",
    "    \n",
    "    grad = approx_fprime(x_previos, f_, [eps, eps])\n",
    "    # Your code here (функция для вычисления градиента есть в лекционном ноутбуке)\n",
    "    \n",
    "    # Update x with gradient\n",
    "    x_current = x_previos - learning_rate*grad\n",
    "    \n",
    "    x_previous = x_current"
   ]
  },
  {
   "cell_type": "code",
   "execution_count": 119,
   "metadata": {},
   "outputs": [
    {
     "name": "stdout",
     "output_type": "stream",
     "text": [
      "Минимум достигается в:  [100. 200.]\n",
      "Значение функции в минимуме:  5\n"
     ]
    }
   ],
   "source": [
    "print(\"Минимум достигается в: \", x_current)\n",
    "print(\"Значение функции в минимуме: \", f_(x_current))"
   ]
  },
  {
   "cell_type": "code",
   "execution_count": 114,
   "metadata": {},
   "outputs": [
    {
     "name": "stdout",
     "output_type": "stream",
     "text": [
      "Optimization terminated successfully.\n",
      "         Current function value: 5.000000\n",
      "         Iterations: 31\n",
      "         Function evaluations: 123\n"
     ]
    },
    {
     "data": {
      "text/plain": [
       " final_simplex: (array([[100.        , 200.        ],\n",
       "       [100.        , 200.        ],\n",
       "       [100.        , 200.00000001]]), array([5., 5., 5.]))\n",
       "           fun: 5.0\n",
       "       message: 'Optimization terminated successfully.'\n",
       "          nfev: 123\n",
       "           nit: 31\n",
       "        status: 0\n",
       "       success: True\n",
       "             x: array([100., 200.])"
      ]
     },
     "execution_count": 114,
     "metadata": {},
     "output_type": "execute_result"
    }
   ],
   "source": [
    "# Проверка с помощью встроенной функции numpy:\n",
    "res = minimize(f_, x_current, method = 'nelder-mead' , options = { 'xtol' : 1e-8 , 'disp' : True })\n",
    "res"
   ]
  },
  {
   "cell_type": "code",
   "execution_count": null,
   "metadata": {},
   "outputs": [],
   "source": []
  }
 ],
 "metadata": {
  "kernelspec": {
   "display_name": "Python 3",
   "language": "python",
   "name": "python3"
  },
  "language_info": {
   "codemirror_mode": {
    "name": "ipython",
    "version": 3
   },
   "file_extension": ".py",
   "mimetype": "text/x-python",
   "name": "python",
   "nbconvert_exporter": "python",
   "pygments_lexer": "ipython3",
   "version": "3.9.0"
  }
 },
 "nbformat": 4,
 "nbformat_minor": 4
}

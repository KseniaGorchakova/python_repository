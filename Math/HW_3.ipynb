{
 "cells": [
  {
   "cell_type": "code",
   "execution_count": 20,
   "metadata": {},
   "outputs": [],
   "source": [
    "import numpy as np\n",
    "\n",
    "from matplotlib import pyplot as plt\n",
    "from scipy import linalg\n",
    "from sklearn.decomposition import PCA\n",
    "from sklearn.metrics import mean_squared_error"
   ]
  },
  {
   "cell_type": "markdown",
   "metadata": {},
   "source": [
    "## Уровень 0:"
   ]
  },
  {
   "cell_type": "markdown",
   "metadata": {},
   "source": [
    "### Задание №1"
   ]
  },
  {
   "cell_type": "code",
   "execution_count": 6,
   "metadata": {},
   "outputs": [
    {
     "name": "stdout",
     "output_type": "stream",
     "text": [
      "[[-1  0  0]\n",
      " [ 0 -1  0]\n",
      " [ 0  0 -1]]\n"
     ]
    }
   ],
   "source": [
    "# a) Диагональная, ортогональная, но не единичная(!)\n",
    "m = np.diag([-1,  -1, -1])\n",
    "print(m) # Не удалось подобрать одновременно диагональную и ортогональную и не единичную, поэтому взяла такой вариант"
   ]
  },
  {
   "cell_type": "code",
   "execution_count": 9,
   "metadata": {},
   "outputs": [
    {
     "data": {
      "text/plain": [
       "-1.0"
      ]
     },
     "execution_count": 9,
     "metadata": {},
     "output_type": "execute_result"
    }
   ],
   "source": [
    "det = np.linalg.det(m)\n",
    "det"
   ]
  },
  {
   "cell_type": "code",
   "execution_count": 11,
   "metadata": {},
   "outputs": [
    {
     "data": {
      "text/plain": [
       "array([[-1,  0,  0,  0],\n",
       "       [ 0, -1,  0,  0],\n",
       "       [ 0,  0, -1,  0],\n",
       "       [ 0,  0,  0, -1]])"
      ]
     },
     "execution_count": 11,
     "metadata": {},
     "output_type": "execute_result"
    }
   ],
   "source": [
    "# b) Верхнетреугольная, ортогональная\n",
    "m_1 = np.triu([[-1, 0,  0,  0],\n",
    "       [ 0, -1,  0,  0],\n",
    "       [0,  0,  -1, 0],\n",
    "       [ 0,  0, 0,  -1]], 0)\n",
    "m_1"
   ]
  },
  {
   "cell_type": "code",
   "execution_count": 12,
   "metadata": {},
   "outputs": [
    {
     "data": {
      "text/plain": [
       "1.0"
      ]
     },
     "execution_count": 12,
     "metadata": {},
     "output_type": "execute_result"
    }
   ],
   "source": [
    "det_1 = np.linalg.det(m_1)\n",
    "det_1"
   ]
  },
  {
   "cell_type": "code",
   "execution_count": 13,
   "metadata": {},
   "outputs": [
    {
     "name": "stdout",
     "output_type": "stream",
     "text": [
      "[[-1  0  0  0]\n",
      " [ 0 -1  0  0]\n",
      " [ 0  0 -1  0]\n",
      " [ 0  0  0 -1]]\n"
     ]
    }
   ],
   "source": [
    "# c) Нижнетреугольная, ортогональная\n",
    "m_2 = np.tril([[-1, 0,  0,  0],\n",
    "       [ 0, -1,  0,  0],\n",
    "       [0,  0,  -1, 0],\n",
    "       [ 0,  0, 0,  -1]], 0)\n",
    "print(m_2)"
   ]
  },
  {
   "cell_type": "code",
   "execution_count": 14,
   "metadata": {},
   "outputs": [
    {
     "data": {
      "text/plain": [
       "1.0"
      ]
     },
     "execution_count": 14,
     "metadata": {},
     "output_type": "execute_result"
    }
   ],
   "source": [
    "det_2 = np.linalg.det(m_2)\n",
    "det_2"
   ]
  },
  {
   "cell_type": "code",
   "execution_count": 23,
   "metadata": {},
   "outputs": [],
   "source": [
    "# d) Матрица, у которой определитель = 1, и все элементы не равны 0\n",
    "m_3 = np.array([[1, 2] , [1, 3]])"
   ]
  },
  {
   "cell_type": "code",
   "execution_count": 24,
   "metadata": {},
   "outputs": [
    {
     "data": {
      "text/plain": [
       "1.0"
      ]
     },
     "execution_count": 24,
     "metadata": {},
     "output_type": "execute_result"
    }
   ],
   "source": [
    "det_3 = np.linalg.det(m_3)\n",
    "det_3"
   ]
  },
  {
   "cell_type": "markdown",
   "metadata": {},
   "source": [
    "### Задание №2"
   ]
  },
  {
   "cell_type": "code",
   "execution_count": 2,
   "metadata": {},
   "outputs": [],
   "source": [
    "# Найдите собственные значения и собственные вектора матриц\n",
    "m = np.array([[2, 2],\n",
    "              [1, 3]])"
   ]
  },
  {
   "cell_type": "code",
   "execution_count": 6,
   "metadata": {},
   "outputs": [
    {
     "name": "stdout",
     "output_type": "stream",
     "text": [
      "[1. 4.]\n",
      "[[-0.89442719 -0.70710678]\n",
      " [ 0.4472136  -0.70710678]]\n"
     ]
    }
   ],
   "source": [
    "w, v = np.linalg.eig(m)\n",
    "print(w)\n",
    "print(v)"
   ]
  },
  {
   "cell_type": "code",
   "execution_count": 37,
   "metadata": {},
   "outputs": [
    {
     "name": "stdout",
     "output_type": "stream",
     "text": [
      "Собственное значение 1.0\n",
      "соответствующий ему собственный вектор [-0.89442719  0.4472136 ]\n",
      "Собственное значение 4.0\n",
      "соответствующий ему собственный вектор [-0.70710678 -0.70710678]\n"
     ]
    }
   ],
   "source": [
    "for i in range(len(w)):\n",
    "    print(\"Собственное значение \" + str(w[i]))\n",
    "    print(\"соответствующий ему собственный вектор \" + str(v[:,i]))"
   ]
  },
  {
   "cell_type": "markdown",
   "metadata": {},
   "source": [
    "## Уровень 1:"
   ]
  },
  {
   "cell_type": "markdown",
   "metadata": {},
   "source": [
    "### Задание №1"
   ]
  },
  {
   "cell_type": "code",
   "execution_count": 36,
   "metadata": {},
   "outputs": [],
   "source": [
    "# Спектральное разложение матрицы\n",
    "n = np.array([[1, 2],\n",
    "              [2,3]])"
   ]
  },
  {
   "cell_type": "code",
   "execution_count": 44,
   "metadata": {},
   "outputs": [
    {
     "name": "stdout",
     "output_type": "stream",
     "text": [
      "Eigenvalues:\n",
      "[-0.23606798  4.23606798]\n",
      "\n",
      "Eigenvectors:\n",
      "[[-0.85065081 -0.52573111]\n",
      " [ 0.52573111 -0.85065081]]\n"
     ]
    }
   ],
   "source": [
    "a, U = linalg.eig(n)\n",
    "print('Eigenvalues:')\n",
    "print(np.array(a, dtype=float))\n",
    "print('\\nEigenvectors:')\n",
    "print(U)"
   ]
  },
  {
   "cell_type": "code",
   "execution_count": 45,
   "metadata": {},
   "outputs": [
    {
     "name": "stdout",
     "output_type": "stream",
     "text": [
      "[[1. 2.]\n",
      " [2. 3.]]\n"
     ]
    }
   ],
   "source": [
    "print(np.array(U.dot(np.diag(a)).dot(U.T), dtype=float))"
   ]
  }
 ],
 "metadata": {
  "kernelspec": {
   "display_name": "Python 3",
   "language": "python",
   "name": "python3"
  },
  "language_info": {
   "codemirror_mode": {
    "name": "ipython",
    "version": 3
   },
   "file_extension": ".py",
   "mimetype": "text/x-python",
   "name": "python",
   "nbconvert_exporter": "python",
   "pygments_lexer": "ipython3",
   "version": "3.9.0"
  }
 },
 "nbformat": 4,
 "nbformat_minor": 4
}

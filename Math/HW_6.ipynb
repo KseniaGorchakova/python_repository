{
 "cells": [
  {
   "cell_type": "code",
   "execution_count": 12,
   "metadata": {},
   "outputs": [],
   "source": [
    "import numpy as np\n",
    "from scipy.optimize import minimize\n",
    "from scipy.optimize import differential_evolution\n",
    "import matplotlib.pyplot as plt"
   ]
  },
  {
   "cell_type": "markdown",
   "metadata": {},
   "source": [
    "### Задание.\n",
    "#### При фиксированном seed=42 поразбирайтесь и поэкспериментируйте с параметрами алгоритма дифференциальной эволюции: strategy, popsize, tol, mutation, recombination и updating.\n",
    "#### Постройте графики количества итераций оптимизации функции ackley от значения параметра."
   ]
  },
  {
   "cell_type": "code",
   "execution_count": 22,
   "metadata": {},
   "outputs": [],
   "source": [
    "def ackley (x):\n",
    "    arg1 = -0.2 * np.sqrt( 0.5 * (x[ 0 ] ** 2 + x[ 1 ] ** 2 ))\n",
    "    arg2 = 0.5 * (np.cos( 2. * np . pi * x[ 0 ]) + np . cos( 2. * np . pi * x[ 1 ]))\n",
    "    return -20. * np.exp(arg1) - np . exp(arg2) + 20. + np.e"
   ]
  },
  {
   "cell_type": "code",
   "execution_count": 7,
   "metadata": {},
   "outputs": [],
   "source": [
    "bounds = [( -5 , 5 ), ( -5 , 5 )]"
   ]
  },
  {
   "cell_type": "code",
   "execution_count": 62,
   "metadata": {},
   "outputs": [
    {
     "data": {
      "text/plain": [
       "     fun: 4.440892098500626e-16\n",
       " message: 'Optimization terminated successfully.'\n",
       "    nfev: 6743\n",
       "     nit: 166\n",
       " success: True\n",
       "       x: array([0., 0.])"
      ]
     },
     "execution_count": 62,
     "metadata": {},
     "output_type": "execute_result"
    }
   ],
   "source": [
    "#1. Параметры по умолчанию\n",
    "popsize_1 = 15\n",
    "result = differential_evolution(ackley, bounds, seed = 42 )\n",
    "result_1"
   ]
  },
  {
   "cell_type": "code",
   "execution_count": 63,
   "metadata": {},
   "outputs": [
    {
     "data": {
      "text/plain": [
       "     fun: 4.440892098500626e-16\n",
       " message: 'Optimization terminated successfully.'\n",
       "    nfev: 6943\n",
       "     nit: 171\n",
       " success: True\n",
       "       x: array([0., 0.])"
      ]
     },
     "execution_count": 63,
     "metadata": {},
     "output_type": "execute_result"
    }
   ],
   "source": [
    "# 2. Изменены параметры strategy, popsize, mutation, recombination, updating\n",
    "popsize_2 = 20\n",
    "result_2 = differential_evolution(ackley, bounds, strategy='randtobest1exp', popsize=20, tol=0.01, mutation=(0.4, 1.1), recombination=0.8, updating='deferred')\n",
    "result_2"
   ]
  },
  {
   "cell_type": "code",
   "execution_count": 55,
   "metadata": {},
   "outputs": [
    {
     "data": {
      "text/plain": [
       "     fun: 4.440892098500626e-16\n",
       " message: 'Optimization terminated successfully.'\n",
       "    nfev: 17563\n",
       "     nit: 174\n",
       " success: True\n",
       "       x: array([0., 0.])"
      ]
     },
     "execution_count": 55,
     "metadata": {},
     "output_type": "execute_result"
    }
   ],
   "source": [
    "#3. Изменены параметры strategy, popsize\n",
    "popsize_3 = 50\n",
    "result_3 = differential_evolution(ackley, bounds, strategy='rand1bin', popsize=50, tol=0.01, mutation=(0.5, 1), recombination=0.7, updating='immediate')\n",
    "result_3"
   ]
  },
  {
   "cell_type": "code",
   "execution_count": 68,
   "metadata": {},
   "outputs": [
    {
     "data": {
      "text/plain": [
       "     fun: 4.440892098500626e-16\n",
       " message: 'Optimization terminated successfully.'\n",
       "    nfev: 8113\n",
       "     nit: 114\n",
       " success: True\n",
       "       x: array([0., 0.])"
      ]
     },
     "execution_count": 68,
     "metadata": {},
     "output_type": "execute_result"
    }
   ],
   "source": [
    "#4. Изменены параметры popsize, mutation\n",
    "popsize_4 = 35\n",
    "result_4 = differential_evolution(ackley, bounds, strategy='best1bin', popsize=35, tol=0.01, mutation=(0.3, 1.7), recombination=0.7, updating='immediate')\n",
    "result_4"
   ]
  },
  {
   "cell_type": "code",
   "execution_count": 69,
   "metadata": {},
   "outputs": [
    {
     "name": "stdout",
     "output_type": "stream",
     "text": [
      "11.066666666666666 8.55 3.48 3.257142857142857\n"
     ]
    }
   ],
   "source": [
    "y_1 = result_1.nit / popsize_1\n",
    "y_2 = result_2.nit / popsize_2\n",
    "y_3 = result_3.nit / popsize_3\n",
    "y_4 = result_4.nit / popsize_4\n",
    "print (y_1, y_2, y_3, y_4)"
   ]
  },
  {
   "cell_type": "code",
   "execution_count": 71,
   "metadata": {},
   "outputs": [
    {
     "data": {
      "text/plain": [
       "<matplotlib.collections.PathCollection at 0x7fef34d90b80>"
      ]
     },
     "execution_count": 71,
     "metadata": {},
     "output_type": "execute_result"
    },
    {
     "data": {
      "image/png": "[encoded data removed]",
      "text/plain": [
       "<Figure size 432x288 with 1 Axes>"
      ]
     },
     "metadata": {
      "needs_background": "light"
     },
     "output_type": "display_data"
    }
   ],
   "source": [
    "y = y_1, y_2, y_3, y_4\n",
    "x = popsize_1, popsize_2, popsize_3, popsize_4\n",
    "plt.scatter(y, x)"
   ]
  },
  {
   "cell_type": "code",
   "execution_count": null,
   "metadata": {},
   "outputs": [],
   "source": []
  }
 ],
 "metadata": {
  "kernelspec": {
   "display_name": "Python 3",
   "language": "python",
   "name": "python3"
  },
  "language_info": {
   "codemirror_mode": {
    "name": "ipython",
    "version": 3
   },
   "file_extension": ".py",
   "mimetype": "text/x-python",
   "name": "python",
   "nbconvert_exporter": "python",
   "pygments_lexer": "ipython3",
   "version": "3.9.0"
  }
 },
 "nbformat": 4,
 "nbformat_minor": 4
}

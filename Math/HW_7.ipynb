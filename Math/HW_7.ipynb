{
 "cells": [
  {
   "cell_type": "code",
   "execution_count": 50,
   "metadata": {},
   "outputs": [],
   "source": [
    "import numpy as np\n",
    "from scipy.stats import *\n",
    "import math\n",
    "from random import choice\n",
    "import matplotlib.pyplot as plt"
   ]
  },
  {
   "cell_type": "markdown",
   "metadata": {},
   "source": [
    "### Задание 1"
   ]
  },
  {
   "cell_type": "code",
   "execution_count": 3,
   "metadata": {},
   "outputs": [],
   "source": [
    "n = 15 # кол-во бросков\n",
    "k = 2 # кол-во выпавших орлов"
   ]
  },
  {
   "cell_type": "code",
   "execution_count": 12,
   "metadata": {},
   "outputs": [
    {
     "data": {
      "text/plain": [
       "0.0128173828125"
      ]
     },
     "execution_count": 12,
     "metadata": {},
     "output_type": "execute_result"
    }
   ],
   "source": [
    "ckn = math.factorial(n) / math.factorial(n-k) * math.factorial(k)\n",
    "p = ckn * (0.5**n)\n",
    "p"
   ]
  },
  {
   "cell_type": "markdown",
   "metadata": {},
   "source": [
    "### Задание №2"
   ]
  },
  {
   "cell_type": "code",
   "execution_count": 43,
   "metadata": {},
   "outputs": [],
   "source": [
    "a = np.random.randint(1, high=100, size = 10)\n",
    "b = []"
   ]
  },
  {
   "cell_type": "code",
   "execution_count": 44,
   "metadata": {},
   "outputs": [],
   "source": [
    "for i in range (1000):\n",
    "    b.append(choice(a))"
   ]
  },
  {
   "cell_type": "code",
   "execution_count": 60,
   "metadata": {},
   "outputs": [
    {
     "data": {
      "text/plain": [
       "(array([0.02311111, 0.        , 0.02066667, 0.01155556, 0.02344444,\n",
       "        0.00988889, 0.        , 0.01133333, 0.        , 0.01111111]),\n",
       " array([ 3., 12., 21., 30., 39., 48., 57., 66., 75., 84., 93.]),\n",
       " <BarContainer object of 10 artists>)"
      ]
     },
     "execution_count": 60,
     "metadata": {},
     "output_type": "execute_result"
    },
    {
     "data": {
      "image/png": "[encoded data removed]",
      "text/plain": [
       "<Figure size 432x288 with 1 Axes>"
      ]
     },
     "metadata": {
      "needs_background": "light"
     },
     "output_type": "display_data"
    }
   ],
   "source": [
    "plt.hist(np.array(b), density = True)"
   ]
  },
  {
   "cell_type": "code",
   "execution_count": 62,
   "metadata": {},
   "outputs": [],
   "source": [
    "m = np.mean(b)\n",
    "v = np.var(b)\n",
    "med = np.median(b)"
   ]
  },
  {
   "cell_type": "code",
   "execution_count": 63,
   "metadata": {},
   "outputs": [
    {
     "name": "stdout",
     "output_type": "stream",
     "text": [
      "Мат.ожидание =  40.379\n",
      "Дисперсия =  686.8833589999999\n",
      "Медиана =  40.0\n"
     ]
    }
   ],
   "source": [
    "print('Мат.ожидание = ', m)\n",
    "print('Дисперсия = ', v)\n",
    "print('Медиана = ', med)"
   ]
  },
  {
   "cell_type": "markdown",
   "metadata": {},
   "source": [
    "### Задание №3"
   ]
  },
  {
   "cell_type": "code",
   "execution_count": 70,
   "metadata": {},
   "outputs": [],
   "source": [
    "# Если несовместные события являются независимыми, то выполняется p(A∩B)=p(A)⋅p(B)\n",
    "p_A1 = 0.5\n",
    "p_A2 = 0.5\n",
    "p_A3 = 0.5"
   ]
  },
  {
   "cell_type": "code",
   "execution_count": 72,
   "metadata": {},
   "outputs": [
    {
     "name": "stdout",
     "output_type": "stream",
     "text": [
      "0.25 0.25 0.25\n"
     ]
    }
   ],
   "source": [
    "# Получается, что любые два события из этого набора независимы\n",
    "p_A1_p_A2 = p_A1 * p_A2\n",
    "p_A1_p_A3 = p_A1 * p_A3\n",
    "p_A2_p_A3 = p_A2 * p_A3\n",
    "print(p_A1_p_A2, p_A1_p_A3, p_A2_p_A3)"
   ]
  },
  {
   "cell_type": "markdown",
   "metadata": {},
   "source": [
    "### Все же три в совокупности зависимы, ибо зная, например, что события A1 и A2 произошли, мы знаем точно, что A3 также произошло. Соответственно p(A1∩A2∩A3) != p(A1)⋅p(A2)⋅p(A2)"
   ]
  },
  {
   "cell_type": "code",
   "execution_count": 73,
   "metadata": {},
   "outputs": [
    {
     "name": "stdout",
     "output_type": "stream",
     "text": [
      "0.25\n",
      "0.125\n"
     ]
    }
   ],
   "source": [
    "p_A1A2A3 = p_A1 * p_A2\n",
    "pA1_A2_A3 = p_A1 * p_A2 * p_A3\n",
    "print(p_A1A2A3)\n",
    "print(pA1_A2_A3)"
   ]
  },
  {
   "cell_type": "markdown",
   "metadata": {},
   "source": [
    "### Задние №4\n",
    "\n",
    "В магазин привезли устройства с 3-х разных предприятий.\n",
    "Соотношение устройств следующее: 20% - продукция первого предприятия, 30% - продукция второго предприятия, 50% - продукция третьего предприятия; далее, 10% продукции первого предприятия высшего сорта, на втором предприятии - 5% и на третьем - 20% продукции высшего сорта.\n",
    "Найти вероятность того, что случайно купленная новая продукция окажется высшего сорта."
   ]
  },
  {
   "cell_type": "code",
   "execution_count": 75,
   "metadata": {},
   "outputs": [],
   "source": [
    "p_mf_1 = 0.2 #Продукция первого предприятия\n",
    "p_mf_2 = 0.3 #Продукция второго предприятия\n",
    "p_mf_3 = 0.5 #Продукция третьего предприятия\n",
    "p_mf_1_h = 0.1\n",
    "p_mf_2_h = 0.05\n",
    "p_mf_3_h = 0.2"
   ]
  },
  {
   "cell_type": "code",
   "execution_count": 76,
   "metadata": {},
   "outputs": [
    {
     "data": {
      "text/plain": [
       "0.135"
      ]
     },
     "execution_count": 76,
     "metadata": {},
     "output_type": "execute_result"
    }
   ],
   "source": [
    "p_mf_1 * p_mf_1_h + p_mf_2 * p_mf_2_h + p_mf_3 * p_mf_3_h"
   ]
  },
  {
   "cell_type": "code",
   "execution_count": null,
   "metadata": {},
   "outputs": [],
   "source": []
  }
 ],
 "metadata": {
  "kernelspec": {
   "display_name": "Python 3",
   "language": "python",
   "name": "python3"
  },
  "language_info": {
   "codemirror_mode": {
    "name": "ipython",
    "version": 3
   },
   "file_extension": ".py",
   "mimetype": "text/x-python",
   "name": "python",
   "nbconvert_exporter": "python",
   "pygments_lexer": "ipython3",
   "version": "3.9.0"
  }
 },
 "nbformat": 4,
 "nbformat_minor": 4
}

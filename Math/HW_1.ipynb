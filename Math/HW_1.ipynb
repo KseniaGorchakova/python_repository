{
 "cells": [
  {
   "cell_type": "markdown",
   "metadata": {},
   "source": [
    "### Домашнее задание \"Линейная алгебра. Векторы\".\n",
    "##### Даны вектора x = (1,1), y = (2, 0) и z = (0,2)\n",
    "##### Надо:\n",
    "##### 1) Изобразить вектора на экране\n",
    "##### 2) Изобразить точку x + y + z\n",
    "##### 3) Найти угол между векторами x и y"
   ]
  },
  {
   "cell_type": "code",
   "execution_count": null,
   "metadata": {},
   "outputs": [],
   "source": []
  }
 ],
 "metadata": {
  "kernelspec": {
   "display_name": "Python 3",
   "language": "python",
   "name": "python3"
  },
  "language_info": {
   "codemirror_mode": {
    "name": "ipython",
    "version": 3
   },
   "file_extension": ".py",
   "mimetype": "text/x-python",
   "name": "python",
   "nbconvert_exporter": "python",
   "pygments_lexer": "ipython3",
   "version": "3.9.0"
  }
 },
 "nbformat": 4,
 "nbformat_minor": 4
}

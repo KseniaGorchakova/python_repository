{
 "cells": [
  {
   "cell_type": "code",
   "execution_count": 1,
   "metadata": {},
   "outputs": [],
   "source": [
    "import numpy as np\n",
    "import matplotlib.pyplot as plt"
   ]
  },
  {
   "cell_type": "markdown",
   "metadata": {},
   "source": [
    "### Задание №1"
   ]
  },
  {
   "cell_type": "code",
   "execution_count": 49,
   "metadata": {},
   "outputs": [],
   "source": [
    "e = np.array([\n",
    "[1., 2., 3.],\n",
    "[4., 5., 6.],\n",
    "[7., 8., 9.]\n",
    "])\n",
    "\n",
    "# Матрица с единицами на главной диагонале\n",
    "k = np.eye(3)"
   ]
  },
  {
   "cell_type": "code",
   "execution_count": 50,
   "metadata": {},
   "outputs": [
    {
     "data": {
      "text/plain": [
       "array([[ 2.,  2.,  3.],\n",
       "       [ 4.,  6.,  6.],\n",
       "       [ 7.,  8., 10.]])"
      ]
     },
     "execution_count": 50,
     "metadata": {},
     "output_type": "execute_result"
    }
   ],
   "source": [
    "# Сложение матриц\n",
    "m = e + k\n",
    "m"
   ]
  },
  {
   "cell_type": "code",
   "execution_count": 51,
   "metadata": {},
   "outputs": [
    {
     "name": "stdout",
     "output_type": "stream",
     "text": [
      "[15. 34. 53.]\n"
     ]
    }
   ],
   "source": [
    "# Умножение матрицы на вектор h\n",
    "h = np.array([1., 2., 3.])\n",
    "\n",
    "print(m @ h)"
   ]
  },
  {
   "cell_type": "code",
   "execution_count": 52,
   "metadata": {},
   "outputs": [
    {
     "data": {
      "text/plain": [
       "array([[-6.00000000e+00, -2.00000000e+00,  3.00000000e+00],\n",
       "       [-1.00000000e+00,  5.00000000e-01, -2.33146835e-16],\n",
       "       [ 5.00000000e+00,  1.00000000e+00, -2.00000000e+00]])"
      ]
     },
     "execution_count": 52,
     "metadata": {},
     "output_type": "execute_result"
    }
   ],
   "source": [
    "# Обратная матрица матрицы m\n",
    "o = np.linalg.inv(m)\n",
    "o"
   ]
  },
  {
   "cell_type": "code",
   "execution_count": 53,
   "metadata": {},
   "outputs": [
    {
     "data": {
      "text/plain": [
       "array([[ 1.00000000e+00, -3.33066907e-16,  6.66133815e-16],\n",
       "       [-5.32907052e-15,  1.00000000e+00,  1.33226763e-15],\n",
       "       [-1.77635684e-15, -1.11022302e-15,  1.00000000e+00]])"
      ]
     },
     "execution_count": 53,
     "metadata": {},
     "output_type": "execute_result"
    }
   ],
   "source": [
    "np.dot(m, o)"
   ]
  },
  {
   "cell_type": "markdown",
   "metadata": {},
   "source": [
    "### Задание №2"
   ]
  },
  {
   "cell_type": "code",
   "execution_count": 63,
   "metadata": {},
   "outputs": [],
   "source": [
    "A = [\n",
    "[-100, -100, 1],\n",
    "[-100, 100, 1],\n",
    "[100, 100, 1],\n",
    "[0, 0, 1],\n",
    "[100, -100, 1],\n",
    "[-100, -100, 1]\n",
    "]"
   ]
  },
  {
   "cell_type": "code",
   "execution_count": 78,
   "metadata": {},
   "outputs": [],
   "source": [
    "A = np.array(A)\n",
    "x = A[:,0]\n",
    "y = A[:,1]"
   ]
  },
  {
   "cell_type": "code",
   "execution_count": 56,
   "metadata": {},
   "outputs": [
    {
     "data": {
      "text/plain": [
       "(-200.0, 200.0)"
      ]
     },
     "execution_count": 56,
     "metadata": {},
     "output_type": "execute_result"
    },
    {
     "data": {
      "image/png": "[encoded data removed]",
      "text/plain": [
       "<Figure size 432x288 with 1 Axes>"
      ]
     },
     "metadata": {
      "needs_background": "light"
     },
     "output_type": "display_data"
    }
   ],
   "source": [
    "plt.plot(x, y)\n",
    "plt.ylim([-200, 200])\n",
    "plt.xlim([-200, 200])"
   ]
  },
  {
   "cell_type": "markdown",
   "metadata": {},
   "source": [
    "### Уменьшить объект в два раза"
   ]
  },
  {
   "cell_type": "code",
   "execution_count": 72,
   "metadata": {},
   "outputs": [
    {
     "data": {
      "text/plain": [
       "array([[0.5, 0. , 0. ],\n",
       "       [0. , 0.5, 0. ],\n",
       "       [0. , 0. , 1. ]])"
      ]
     },
     "execution_count": 72,
     "metadata": {},
     "output_type": "execute_result"
    }
   ],
   "source": [
    "# Матрица для сжатия по осям\n",
    "B = np.array([\n",
    "[0.5, 0, 0],\n",
    "[0, 0.5, 0],\n",
    "[0, 0, 1]\n",
    "])\n",
    "B"
   ]
  },
  {
   "cell_type": "code",
   "execution_count": 73,
   "metadata": {},
   "outputs": [
    {
     "data": {
      "text/plain": [
       "array([[-50., -50.,   1.],\n",
       "       [-50.,  50.,   1.],\n",
       "       [ 50.,  50.,   1.],\n",
       "       [  0.,   0.,   1.],\n",
       "       [ 50., -50.,   1.],\n",
       "       [-50., -50.,   1.]])"
      ]
     },
     "execution_count": 73,
     "metadata": {},
     "output_type": "execute_result"
    }
   ],
   "source": [
    "D = np.dot(A,B)\n",
    "D"
   ]
  },
  {
   "cell_type": "code",
   "execution_count": 113,
   "metadata": {},
   "outputs": [
    {
     "data": {
      "text/plain": [
       "(-100.0, 100.0)"
      ]
     },
     "execution_count": 113,
     "metadata": {},
     "output_type": "execute_result"
    },
    {
     "data": {
      "image/png": "[encoded data removed]",
      "text/plain": [
       "<Figure size 432x288 with 1 Axes>"
      ]
     },
     "metadata": {
      "needs_background": "light"
     },
     "output_type": "display_data"
    }
   ],
   "source": [
    "x_1 = D[:,0]\n",
    "y_1 = D[:,1]\n",
    "plt.plot(x_1, y_1)\n",
    "plt.ylim([-100, 100])\n",
    "plt.xlim([-100, 100])"
   ]
  },
  {
   "cell_type": "markdown",
   "metadata": {},
   "source": [
    "### Повернуть на 130 градусов"
   ]
  },
  {
   "cell_type": "code",
   "execution_count": 114,
   "metadata": {},
   "outputs": [
    {
     "data": {
      "text/plain": [
       "array([[ 140.88320528,  -12.32568334,    1.        ],\n",
       "       [ -12.32568334, -140.88320528,    1.        ],\n",
       "       [-140.88320528,   12.32568334,    1.        ],\n",
       "       [   0.        ,    0.        ,    1.        ],\n",
       "       [  12.32568334,  140.88320528,    1.        ],\n",
       "       [ 140.88320528,  -12.32568334,    1.        ]])"
      ]
     },
     "execution_count": 114,
     "metadata": {},
     "output_type": "execute_result"
    }
   ],
   "source": [
    "# Матрица поворота на 130 градусов по оси X\n",
    "B_2 = np.array ([\n",
    "[np.cos(np.deg2rad(130)), np.sin(np.deg2rad(130)), 0],\n",
    "[-np.sin(np.deg2rad(130)), np.cos(np.deg2rad(130)),0],\n",
    "[0,0,1]\n",
    "    ])\n",
    "D_2 = np.dot(A, B_2)\n",
    "D_2"
   ]
  },
  {
   "cell_type": "code",
   "execution_count": 115,
   "metadata": {},
   "outputs": [
    {
     "data": {
      "text/plain": [
       "(-200.0, 200.0)"
      ]
     },
     "execution_count": 115,
     "metadata": {},
     "output_type": "execute_result"
    },
    {
     "data": {
      "image/png": "[encoded data removed]",
      "text/plain": [
       "<Figure size 432x288 with 1 Axes>"
      ]
     },
     "metadata": {
      "needs_background": "light"
     },
     "output_type": "display_data"
    }
   ],
   "source": [
    "x_2 = D_2[:,0]\n",
    "y_2 = D_2[:,1]\n",
    "plt.plot(x_2, y_2)\n",
    "plt.ylim([-200, 200])\n",
    "plt.xlim([-200, 200])"
   ]
  },
  {
   "cell_type": "markdown",
   "metadata": {},
   "source": [
    "### Отразить объект относительно прямой y=x"
   ]
  },
  {
   "cell_type": "code",
   "execution_count": 119,
   "metadata": {},
   "outputs": [
    {
     "data": {
      "text/plain": [
       "array([[0, 1, 0],\n",
       "       [1, 0, 0],\n",
       "       [0, 0, 1]])"
      ]
     },
     "execution_count": 119,
     "metadata": {},
     "output_type": "execute_result"
    }
   ],
   "source": [
    "# Матрица для зеркального отражения\n",
    "B_3 = np.array([\n",
    "[0, 1, 0],\n",
    "[1, 0, 0],\n",
    "[0, 0, 1]\n",
    "])\n",
    "B_3"
   ]
  },
  {
   "cell_type": "code",
   "execution_count": 120,
   "metadata": {},
   "outputs": [
    {
     "data": {
      "text/plain": [
       "array([[-100, -100,    1],\n",
       "       [ 100, -100,    1],\n",
       "       [ 100,  100,    1],\n",
       "       [   0,    0,    1],\n",
       "       [-100,  100,    1],\n",
       "       [-100, -100,    1]])"
      ]
     },
     "execution_count": 120,
     "metadata": {},
     "output_type": "execute_result"
    }
   ],
   "source": [
    "D_3 = np.dot(A, B_3)\n",
    "D_3"
   ]
  },
  {
   "cell_type": "code",
   "execution_count": 121,
   "metadata": {},
   "outputs": [
    {
     "data": {
      "text/plain": [
       "(-200.0, 200.0)"
      ]
     },
     "execution_count": 121,
     "metadata": {},
     "output_type": "execute_result"
    },
    {
     "data": {
      "image/png": "[encoded data removed]",
      "text/plain": [
       "<Figure size 432x288 with 1 Axes>"
      ]
     },
     "metadata": {
      "needs_background": "light"
     },
     "output_type": "display_data"
    }
   ],
   "source": [
    "x_3 = D_3[:,0]\n",
    "y_3 = D_3[:,1]\n",
    "plt.plot(x_3, y_3)\n",
    "plt.ylim([-200, 200])\n",
    "plt.xlim([-200, 200])"
   ]
  },
  {
   "cell_type": "markdown",
   "metadata": {},
   "source": [
    "### Выполнить смещение объекта и масштабирование (применить 2 матрицы трансформаций). Смещение на (200, 300) и масштабирование на (0.5, 1.2)"
   ]
  },
  {
   "cell_type": "code",
   "execution_count": 157,
   "metadata": {},
   "outputs": [],
   "source": [
    "# Матрица для смещения\n",
    "B_4 = np.array([\n",
    "[3, 0, 0],\n",
    "[0, 4, 0],\n",
    "[0, 0, 1]\n",
    "])\n",
    "\n",
    "# Матрица для масштабирования\n",
    "B_5 = np.array([\n",
    "[0.5, 0, 0],\n",
    "[0, 1.2, 0],\n",
    "[0, 0, 1]\n",
    "])"
   ]
  },
  {
   "cell_type": "code",
   "execution_count": 160,
   "metadata": {},
   "outputs": [],
   "source": [
    "D_4 = np.dot(A,B_4)\n",
    "D_5 = np.dot(D_4, B_5)"
   ]
  },
  {
   "cell_type": "code",
   "execution_count": 161,
   "metadata": {},
   "outputs": [
    {
     "data": {
      "text/plain": [
       "(-500.0, 500.0)"
      ]
     },
     "execution_count": 161,
     "metadata": {},
     "output_type": "execute_result"
    },
    {
     "data": {
      "image/png": "[encoded data removed]",
      "text/plain": [
       "<Figure size 432x288 with 1 Axes>"
      ]
     },
     "metadata": {
      "needs_background": "light"
     },
     "output_type": "display_data"
    }
   ],
   "source": [
    "x_4 = D_5[:,0]\n",
    "y_4 = D_5[:,1]\n",
    "plt.plot(x_4, y_4)\n",
    "plt.ylim([-500, 500])\n",
    "plt.xlim([-500, 500])"
   ]
  }
 ],
 "metadata": {
  "kernelspec": {
   "display_name": "Python 3",
   "language": "python",
   "name": "python3"
  },
  "language_info": {
   "codemirror_mode": {
    "name": "ipython",
    "version": 3
   },
   "file_extension": ".py",
   "mimetype": "text/x-python",
   "name": "python",
   "nbconvert_exporter": "python",
   "pygments_lexer": "ipython3",
   "version": "3.9.0"
  }
 },
 "nbformat": 4,
 "nbformat_minor": 4
}

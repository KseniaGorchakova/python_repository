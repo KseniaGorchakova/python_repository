{
 "cells": [
  {
   "cell_type": "markdown",
   "metadata": {},
   "source": [
    "### Задача №1"
   ]
  },
  {
   "cell_type": "code",
   "execution_count": 1,
   "metadata": {},
   "outputs": [],
   "source": [
    "import re"
   ]
  },
  {
   "cell_type": "code",
   "execution_count": 35,
   "metadata": {},
   "outputs": [],
   "source": [
    "# car_id = 'A222BC96'\n",
    "# car_id = 'АБ22ВВ193'"
   ]
  },
  {
   "cell_type": "code",
   "execution_count": 61,
   "metadata": {},
   "outputs": [],
   "source": [
    "def check_car_id(car_id):\n",
    "    car_id = input('Введите значение ')\n",
    "    car_number = r'\\w{1}\\d{3}\\w{2}\\d{2,3}'\n",
    "    if re.findall (car_number, car_id):\n",
    "        number = re.findall(r'\\w{1}\\d{3}\\w{2}', car_id)\n",
    "        region = re.findall(r'\\d{2,3}$', car_id)\n",
    "# перевожу переменные number и region к строке, т.к. в print эти переменные вводятся как список\n",
    "        number_str = \"\".join(number)\n",
    "        region_str = \"\".join(region)\n",
    "        print(f\" Номер {number_str} валиден. Регион: {region_str}\")\n",
    "    else:\n",
    "        print('Номер не валиден ')"
   ]
  },
  {
   "cell_type": "code",
   "execution_count": 62,
   "metadata": {},
   "outputs": [
    {
     "name": "stdout",
     "output_type": "stream",
     "text": [
      "Введите значение A222BC96\n",
      " Номер A222BC валиден. Регион: 96\n"
     ]
    }
   ],
   "source": [
    "check_car_id(car_id)"
   ]
  },
  {
   "cell_type": "markdown",
   "metadata": {},
   "source": [
    "### Задача №2"
   ]
  },
  {
   "cell_type": "code",
   "execution_count": 59,
   "metadata": {},
   "outputs": [],
   "source": [
    "#some_string = 'Напишите функцию функцию, которая будет будет будет будет удалять все все все все последовательные повторы слов из из из из заданной строки строки при помощи регулярных выражений.'"
   ]
  },
  {
   "cell_type": "code",
   "execution_count": 88,
   "metadata": {},
   "outputs": [],
   "source": [
    "def delete_repeat_words(some_string):\n",
    "    some_string = input('Введите какую-то строку ')\n",
    "    \n",
    "    print(re.sub(r'(\\w+)(:?\\s\\1\\b)+', r'\\1', some_string))"
   ]
  },
  {
   "cell_type": "code",
   "execution_count": 90,
   "metadata": {},
   "outputs": [
    {
     "name": "stdout",
     "output_type": "stream",
     "text": [
      "Введите какую-то строку Напишите функцию функцию, которая будет будет будет будет удалять все все все все последовательные повторы слов из из из из заданной строки строки при помощи регулярных выражений.\n",
      "Напишите функцию, которая будет удалять все последовательные повторы слов из заданной строки при помощи регулярных выражений.\n"
     ]
    }
   ],
   "source": [
    "delete_repeat_words(some_string)"
   ]
  },
  {
   "cell_type": "markdown",
   "metadata": {},
   "source": [
    "### Задача №3"
   ]
  },
  {
   "cell_type": "code",
   "execution_count": 174,
   "metadata": {},
   "outputs": [],
   "source": [
    "#some_words = 'Информационные технологии'\n",
    "some_words = 'Near Field Communication'"
   ]
  },
  {
   "cell_type": "code",
   "execution_count": 172,
   "metadata": {},
   "outputs": [],
   "source": [
    "def akronim(some_words):\n",
    "    first_letters = re.findall(r'\\b\\w', some_words)\n",
    "#Перевод списка в строку\n",
    "    str_first_letters = \"\".join(first_letters)\n",
    "    print(str_first_letters.upper())"
   ]
  },
  {
   "cell_type": "code",
   "execution_count": 175,
   "metadata": {},
   "outputs": [
    {
     "name": "stdout",
     "output_type": "stream",
     "text": [
      "NFC\n"
     ]
    }
   ],
   "source": [
    "akronim(some_words)"
   ]
  },
  {
   "cell_type": "markdown",
   "metadata": {},
   "source": [
    "### Задача №4"
   ]
  },
  {
   "cell_type": "code",
   "execution_count": 126,
   "metadata": {},
   "outputs": [],
   "source": [
    "emails = ['test@gmail.com', 'xyz@test.in', 'test@ya.ru', 'xyz@mail.ru', 'xyz@ya.ru', 'xyz@gmail.com']"
   ]
  },
  {
   "cell_type": "code",
   "execution_count": 125,
   "metadata": {},
   "outputs": [],
   "source": [
    "def count_domens(emails):\n",
    "#словарь, чтобы записывать домен и его кол-во в списке\n",
    "    domen_dict = {}\n",
    "    for email in emails:\n",
    "        domen = re.findall(r'(?<=[@])\\w+\\.\\w+', email)\n",
    "#преобразование в строку\n",
    "        domen_str = \"\".join(domen)\n",
    "        if domen_str in domen_dict:\n",
    "            domen_dict[domen_str] += 1\n",
    "        else:\n",
    "            domen_dict[domen_str] = 1\n",
    "    \n",
    "    for key, value in domen_dict.items():\n",
    "        print(f\"{key}: {value}\")  "
   ]
  },
  {
   "cell_type": "code",
   "execution_count": 127,
   "metadata": {},
   "outputs": [
    {
     "name": "stdout",
     "output_type": "stream",
     "text": [
      "gmail.com: 2\n",
      "test.in: 1\n",
      "ya.ru: 2\n",
      "mail.ru: 1\n"
     ]
    }
   ],
   "source": [
    "count_domens(emails)"
   ]
  },
  {
   "cell_type": "code",
   "execution_count": null,
   "metadata": {},
   "outputs": [],
   "source": []
  }
 ],
 "metadata": {
  "kernelspec": {
   "display_name": "Python 3",
   "language": "python",
   "name": "python3"
  },
  "language_info": {
   "codemirror_mode": {
    "name": "ipython",
    "version": 3
   },
   "file_extension": ".py",
   "mimetype": "text/x-python",
   "name": "python",
   "nbconvert_exporter": "python",
   "pygments_lexer": "ipython3",
   "version": "3.9.0"
  }
 },
 "nbformat": 4,
 "nbformat_minor": 4
}

{
 "cells": [
  {
   "cell_type": "code",
   "execution_count": 13,
   "metadata": {},
   "outputs": [],
   "source": [
    "#Перечень документов\n",
    "documents = [\n",
    " {'type': 'passport', 'number': '2207 876234', 'name': 'Василий Гупкин'},\n",
    " {'type': 'invoice', 'number': '11-2', 'name': 'Геннадий Покемонов'},\n",
    " {'type': 'insurance', 'number': '10006', 'name': 'Аристарх Павлов'}\n",
    "]"
   ]
  },
  {
   "cell_type": "code",
   "execution_count": 12,
   "metadata": {},
   "outputs": [],
   "source": [
    "#Перечень полок\n",
    "directories = {\n",
    " '1': ['2207 876234', '11-2'],\n",
    " '2': ['10006'],\n",
    " '3': []\n",
    "}"
   ]
  },
  {
   "cell_type": "markdown",
   "metadata": {},
   "source": [
    "## Задание 1\n",
    "### Пункт 1. Пользователь по команде “p” может узнать владельца документа по его номеру"
   ]
  },
  {
   "cell_type": "code",
   "execution_count": 7,
   "metadata": {},
   "outputs": [],
   "source": [
    "# Функция для команды 'p'\n",
    "def find_name(user_input):\n",
    "    \n",
    "    for info in documents:\n",
    "        if info['number'] == str(user_input):\n",
    "            return(info['name'])\n",
    "    \n",
    "    return('Документ не найден в базе')"
   ]
  },
  {
   "cell_type": "code",
   "execution_count": 54,
   "metadata": {},
   "outputs": [
    {
     "name": "stdout",
     "output_type": "stream",
     "text": [
      "Аристарх Павлов\n"
     ]
    }
   ],
   "source": [
    "print(find_name(10006))"
   ]
  },
  {
   "cell_type": "markdown",
   "metadata": {},
   "source": [
    "### Пункт 2. Пользователь по команде “s” может по номеру документа узнать на какой полке он хранится"
   ]
  },
  {
   "cell_type": "code",
   "execution_count": 16,
   "metadata": {},
   "outputs": [],
   "source": [
    "# Функция для команды 's'\n",
    "def find_directory(user_input):\n",
    "    \n",
    "    for directory, numbers in directories.items(): #перебор ключ-значений\n",
    "        for number in numbers: #перебор значений\n",
    "            \n",
    "            if str(user_input) == number: #поиск полки по введенному значению\n",
    "                return(directory)\n",
    "    \n",
    "    return('Документ не найден в базе')"
   ]
  },
  {
   "cell_type": "code",
   "execution_count": 17,
   "metadata": {},
   "outputs": [
    {
     "name": "stdout",
     "output_type": "stream",
     "text": [
      "2\n"
     ]
    }
   ],
   "source": [
    "print(find_directory(10006))"
   ]
  },
  {
   "cell_type": "markdown",
   "metadata": {},
   "source": [
    "### Пункт 3. Пользователь по команде “l” может увидеть полную информацию по всем документам"
   ]
  },
  {
   "cell_type": "code",
   "execution_count": 20,
   "metadata": {},
   "outputs": [],
   "source": [
    "def all_information():\n",
    "    for info in documents:\n",
    "        print(f\"№: {info['number']}, тип: {info['type']}, владелец: {info['name']}, полка хранения: {find_directory(info['number'])}\")\n",
    "\n"
   ]
  },
  {
   "cell_type": "code",
   "execution_count": 22,
   "metadata": {},
   "outputs": [
    {
     "name": "stdout",
     "output_type": "stream",
     "text": [
      "№: 2207 876234, тип: passport, владелец: Василий Гупкин, полка хранения: 1\n",
      "№: 11-2, тип: invoice, владелец: Геннадий Покемонов, полка хранения: 1\n",
      "№: 10006, тип: insurance, владелец: Аристарх Павлов, полка хранения: 2\n"
     ]
    }
   ],
   "source": [
    "all_information()"
   ]
  },
  {
   "cell_type": "markdown",
   "metadata": {},
   "source": [
    "### Пункт 4. Пользователь по команде “as” может добавить новую полку"
   ]
  },
  {
   "cell_type": "code",
   "execution_count": 41,
   "metadata": {},
   "outputs": [],
   "source": [
    "def add_directory(user_input):\n",
    "    \n",
    "    for key in directories.keys(): # цикл перебирает значение ключей\n",
    "        if str(user_input) == key: \n",
    "'''сравниваются значение ключей с пользовательским вводом, при этом перевожу пользовательский ввод строку,\n",
    "т.к. питон воспринимает его как число и функция некорректно отрабатывает'''\n",
    "            all_keys = \",\".join(list(directories.keys()))\n",
    "            return(f\"Такая полка уже существует. Текущий перечень полок: {all_keys}\")\n",
    "        \n",
    "    directories[str(user_input)] = []\n",
    "    all_keys = \",\".join(list(directories.keys()))\n",
    "    return(f\"Полка добавлена. Текущий перечень полок: {all_keys}\")"
   ]
  },
  {
   "cell_type": "code",
   "execution_count": 57,
   "metadata": {},
   "outputs": [
    {
     "name": "stdout",
     "output_type": "stream",
     "text": [
      "Полка добавлена. Текущий перечень полок: 1,2,3,10\n"
     ]
    }
   ],
   "source": [
    "print(add_directory(10))"
   ]
  },
  {
   "cell_type": "markdown",
   "metadata": {},
   "source": [
    "### Пункт 5. Пользователь по команде “ds” может удалить существующую полку из данных (только если она пустая)"
   ]
  },
  {
   "cell_type": "code",
   "execution_count": 28,
   "metadata": {},
   "outputs": [],
   "source": [
    "def del_directory(user_input):\n",
    "    copy_directories = directories.copy()\n",
    "    \n",
    "    for key, value in copy_directories.items():\n",
    "        if str(user_input) == key: #перевожу пользовательский ввод в строку,т.к. иначе питон расценивает его как число\n",
    "            if len(value) == 0:\n",
    "                del(directories[key])\n",
    "            return(directories)\n",
    "    return('Такая полка не существует')"
   ]
  },
  {
   "cell_type": "code",
   "execution_count": 60,
   "metadata": {},
   "outputs": [
    {
     "name": "stdout",
     "output_type": "stream",
     "text": [
      "{'1': ['2207 876234', '11-2'], '2': ['10006']}\n"
     ]
    }
   ],
   "source": [
    "print(del_directory(3))"
   ]
  },
  {
   "cell_type": "markdown",
   "metadata": {},
   "source": [
    "### Основная функция с командами пользователя"
   ]
  },
  {
   "cell_type": "code",
   "execution_count": 61,
   "metadata": {},
   "outputs": [],
   "source": [
    "def main():\n",
    "    while True:\n",
    "        user_command = input('Введите команду ')\n",
    "        if user_command == 'p':\n",
    "            user_input = input('Введите номер документа: ')\n",
    "            print(find_name(user_input))\n",
    "        elif user_command == 's':\n",
    "            user_input = input('Введите номер документа: ')\n",
    "            print(find_directory(user_input))\n",
    "        elif user_command == 'l':\n",
    "            print(all_information())\n",
    "        elif user_command == 'as':\n",
    "            user_input = input('Введите номер полки: ')\n",
    "            print(add_directory(user_input))\n",
    "        elif user_command == 'ds':\n",
    "            user_input = input('Введите номер полки: ')\n",
    "            print(del_directory(user_input))\n",
    "        elif user_command == 'q':\n",
    "            print('До свидания!')\n",
    "            break"
   ]
  },
  {
   "cell_type": "code",
   "execution_count": 53,
   "metadata": {},
   "outputs": [
    {
     "name": "stdout",
     "output_type": "stream",
     "text": [
      "Введите команду p\n",
      "Введите номер документа: 10006\n",
      "Аристарх Павлов\n",
      "Введите команду q\n",
      "До свидания!\n",
      "None\n"
     ]
    }
   ],
   "source": [
    "print(main())"
   ]
  },
  {
   "cell_type": "markdown",
   "metadata": {},
   "source": []
  }
 ],
 "metadata": {
  "kernelspec": {
   "display_name": "Python 3",
   "language": "python",
   "name": "python3"
  },
  "language_info": {
   "codemirror_mode": {
    "name": "ipython",
    "version": 3
   },
   "file_extension": ".py",
   "mimetype": "text/x-python",
   "name": "python",
   "nbconvert_exporter": "python",
   "pygments_lexer": "ipython3",
   "version": "3.9.0"
  }
 },
 "nbformat": 4,
 "nbformat_minor": 4
}

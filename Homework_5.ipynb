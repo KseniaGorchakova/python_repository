{
 "cells": [
  {
   "cell_type": "markdown",
   "metadata": {},
   "source": [
    "### Задание №1"
   ]
  },
  {
   "cell_type": "code",
   "execution_count": 1,
   "metadata": {},
   "outputs": [],
   "source": [
    "import json\n",
    "\n",
    "purchases = {}\n",
    "\n",
    "with open('/Users/kseniagorchakova/Library/Mobile Documents/com~apple~CloudDocs/Education/!Profession_DS/Python/Python_repository/data/purchase_log.txt', 'r') as f:\n",
    "    for line in f:\n",
    "        line = line.strip()\n",
    "        dict_ = json.loads(line)\n",
    "        \n",
    "        purchases[dict_['user_id']] = dict_['category']\n",
    "    "
   ]
  },
  {
   "cell_type": "markdown",
   "metadata": {},
   "source": [
    "### Задание №2"
   ]
  },
  {
   "cell_type": "code",
   "execution_count": null,
   "metadata": {},
   "outputs": [],
   "source": [
    "with open ('/Users/kseniagorchakova/Library/Mobile Documents/com~apple~CloudDocs/Education/!Profession_DS/Python/Python_repository/data/visit_log.csv', 'r') as fv:\n",
    "    with open ('/Users/kseniagorchakova/Library/Mobile Documents/com~apple~CloudDocs/Education/!Profession_DS/Python/Python_repository/data/funnel.csv', 'w') as fv2write:\n",
    "        for line in fv:\n",
    "#Записываем в переменную visits первый элемент списка из файла visit_log.csv, т.е. user_id\n",
    "            visits = line.strip().split(',')[0] \n",
    "#Сравниваю user_id из файла visit_log.csv со значениями ключей в словаре purchases\n",
    "            for key, value in purchases.items():\n",
    "                if visits == key:\n",
    "#Записываю в переменную information user_id из файла visit_log.csv и его покупку (value) из словаря(purchases) \n",
    "                    information = visits + ',' + value + '\\n'\n",
    "                    fv2write.write(information)\n",
    "\n",
    "\n"
   ]
  },
  {
   "cell_type": "code",
   "execution_count": 18,
   "metadata": {},
   "outputs": [],
   "source": [
    "### Другой вариант решения\n",
    "with open ('/Users/kseniagorchakova/Library/Mobile Documents/com~apple~CloudDocs/Education/!Profession_DS/Python/Python_repository/data/visit_log.csv', 'r') as fv:\n",
    "    with open ('/Users/kseniagorchakova/Library/Mobile Documents/com~apple~CloudDocs/Education/!Profession_DS/Python/Python_repository/data/funnel_1.csv', 'w') as fv2write:\n",
    "        for line in fv:\n",
    "            visits = line.strip().split(',')[0] \n",
    "            if visits in purchases:\n",
    "                information = f\"{visits}, {purchases.get('visits')}\\n\"\n",
    "                fv2write.write(information)"
   ]
  },
  {
   "cell_type": "code",
   "execution_count": null,
   "metadata": {},
   "outputs": [],
   "source": []
  }
 ],
 "metadata": {
  "kernelspec": {
   "display_name": "Python 3",
   "language": "python",
   "name": "python3"
  },
  "language_info": {
   "codemirror_mode": {
    "name": "ipython",
    "version": 3
   },
   "file_extension": ".py",
   "mimetype": "text/x-python",
   "name": "python",
   "nbconvert_exporter": "python",
   "pygments_lexer": "ipython3",
   "version": "3.9.0"
  }
 },
 "nbformat": 4,
 "nbformat_minor": 4
}

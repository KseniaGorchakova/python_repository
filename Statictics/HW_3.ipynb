{
 "cells": [
  {
   "cell_type": "code",
   "execution_count": 1,
   "metadata": {},
   "outputs": [],
   "source": [
    "import numpy as np"
   ]
  },
  {
   "cell_type": "code",
   "execution_count": 69,
   "metadata": {},
   "outputs": [
    {
     "data": {
      "text/plain": [
       "0.205"
      ]
     },
     "execution_count": 69,
     "metadata": {},
     "output_type": "execute_result"
    }
   ],
   "source": [
    "# Теоритическая вероятность\n",
    "p = (5 + 10 + 90 + 10 + 90) / 1000\n",
    "p"
   ]
  },
  {
   "cell_type": "code",
   "execution_count": 79,
   "metadata": {},
   "outputs": [
    {
     "name": "stdout",
     "output_type": "stream",
     "text": [
      "0.2021707\n",
      "6989636\n",
      "2021707\n"
     ]
    }
   ],
   "source": [
    "trials = 10000000\n",
    "successes = 0\n",
    "win = 0\n",
    "exp = 0\n",
    "\n",
    "for i in range(trials):\n",
    "    exp += 1\n",
    "    random_score = np.random.randint(000, 999)\n",
    "    if random_score == 777:\n",
    "        win += 200\n",
    "        successes += 1\n",
    "    elif random_score == 999:\n",
    "        win += 100\n",
    "        successes += 1\n",
    "    elif random_score == 555:\n",
    "        win += 50\n",
    "        successes += 1\n",
    "    elif random_score == 333:\n",
    "        win += 15\n",
    "        successes += 1\n",
    "    elif random_score == 111:\n",
    "        win += 10\n",
    "    elif random_score % 100 == 77:\n",
    "        win += 5\n",
    "        successes += 1\n",
    "    elif random_score % 10 == 7:\n",
    "        win += 3\n",
    "        successes += 1\n",
    "    elif random_score % 100 == 00:\n",
    "        win += 2\n",
    "        successes += 1\n",
    "    elif random_score % 10 == 0:\n",
    "        win += 1\n",
    "        successes += 1\n",
    "    else:\n",
    "        win += 0\n",
    "\n",
    "p_monte_carlo = successes / trials\n",
    "\n",
    "print(p_monte_carlo)\n",
    "print(win)\n",
    "print(successes)"
   ]
  },
  {
   "cell_type": "code",
   "execution_count": 72,
   "metadata": {},
   "outputs": [
    {
     "data": {
      "text/plain": [
       "0.805"
      ]
     },
     "execution_count": 72,
     "metadata": {},
     "output_type": "execute_result"
    }
   ],
   "source": [
    "# Мат.ожидание - средний выигрыш за одну игру\n",
    "aver_win = 200 * 1 / 1000 + 100 * 1 / 1000 + 50 * 1 / 1000 + 15* 1 / 1000 + 10 * 1 / 1000 + 5 * 10 / 1000 + 3* 90 / 1000 + 2 * 10 / 1000 + 1 * 90 / 1000\n",
    "aver_win"
   ]
  },
  {
   "cell_type": "markdown",
   "metadata": {},
   "source": [
    "### 1) Наверно, нет. Т.к. вероятность выиграть составляет всего 20% и размер выигрыша будет ниже понесенных расходов.\n",
    "\n",
    "### 2) Средний выигрыш за одну игру составляет 0.805, при этом расход на одну игру будет равен 1. Результат получается отрицательным."
   ]
  },
  {
   "cell_type": "code",
   "execution_count": null,
   "metadata": {},
   "outputs": [],
   "source": []
  },
  {
   "cell_type": "code",
   "execution_count": null,
   "metadata": {},
   "outputs": [],
   "source": []
  }
 ],
 "metadata": {
  "kernelspec": {
   "display_name": "Python 3",
   "language": "python",
   "name": "python3"
  },
  "language_info": {
   "codemirror_mode": {
    "name": "ipython",
    "version": 3
   },
   "file_extension": ".py",
   "mimetype": "text/x-python",
   "name": "python",
   "nbconvert_exporter": "python",
   "pygments_lexer": "ipython3",
   "version": "3.9.0"
  }
 },
 "nbformat": 4,
 "nbformat_minor": 4
}

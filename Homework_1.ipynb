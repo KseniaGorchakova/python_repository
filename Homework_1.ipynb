{
 "cells": [
  {
   "cell_type": "markdown",
   "metadata": {},
   "source": [
    "### Задание №1"
   ]
  },
  {
   "cell_type": "code",
   "execution_count": 4,
   "metadata": {},
   "outputs": [
    {
     "name": "stdout",
     "output_type": "stream",
     "text": [
      "Введи фразу 1 Насколько проще было бы писать программы, если бы не заказчики\n",
      "Введи фразу 2 Насколько проще было бы писать программы, если бы не заказчики\n",
      "Фразы равной длины\n"
     ]
    }
   ],
   "source": [
    "phrase_1 = input('Введи фразу 1 ')\n",
    "phrase_2 = input('Введи фразу 2 ')\n",
    "if len(phrase_1) > len(phrase_2):\n",
    "    print('Фраза 1 длинее фразы 2')\n",
    "elif len(phrase_1) < len(phrase_2):\n",
    "    print('Фраза 2 длинее фразы 1')\n",
    "else:\n",
    "    print('Фразы равной длины')"
   ]
  },
  {
   "cell_type": "markdown",
   "metadata": {},
   "source": [
    "### Задание №2"
   ]
  },
  {
   "cell_type": "code",
   "execution_count": 14,
   "metadata": {},
   "outputs": [
    {
     "name": "stdout",
     "output_type": "stream",
     "text": [
      "Введи год 2000\n",
      "Високосный год\n"
     ]
    }
   ],
   "source": [
    "year = int(input('Введи год '))\n",
    "if year % 4 == 0 or year % 400 == 0:\n",
    "    print('Високосный год')\n",
    "else:\n",
    "    print('Обычный год')"
   ]
  },
  {
   "cell_type": "markdown",
   "metadata": {},
   "source": [
    "### Задание №3"
   ]
  },
  {
   "cell_type": "code",
   "execution_count": 12,
   "metadata": {},
   "outputs": [
    {
     "name": "stdout",
     "output_type": "stream",
     "text": [
      "Введите день 15\n",
      "Введите месяц август\n",
      "Ваш знак зодиака: Лев\n"
     ]
    }
   ],
   "source": [
    "day = int(input('Введите день '))\n",
    "month = input('Введите месяц ')\n",
    "new_month = month.lower()\n",
    "if (day >= 21 and new_month == 'март') or (day <= 20 and new_month == 'апрель'):\n",
    "    print('Ваш знак зодиака: Овен')\n",
    "elif (day >= 21 and new_month == 'апрель') or (day <= 20 and new_month == 'май'):\n",
    "    print('Ваш знак зодиака: Телец')\n",
    "elif (day >= 21 and new_month == 'май') or (day <= 21 and new_month == 'июнь'):\n",
    "    print('Ваш знак зодиака: Близнецы')\n",
    "elif (day >= 22 and new_month == 'июнь') or (day <= 22 and new_month == 'июль'):\n",
    "    print('Ваш знак зодиака: Рак')\n",
    "elif (day >= 23 and new_month == 'июль') or (day <= 23 and new_month == 'август'):\n",
    "    print('Ваш знак зодиака: Лев')\n",
    "elif (day >= 24 and new_month == 'август') or (day <= 23 and new_month == 'сентябрь'):\n",
    "    print('Ваш знак зодиака: Дева')\n",
    "elif (day >= 24 and new_month == 'сентябрь') or (day <= 23 and new_month == 'октябрь'):\n",
    "    print('Ваш знак зодиака: Весы')\n",
    "elif (day >= 24 and new_month == 'октябрь') or (day <= 22 and new_month == 'ноябрь'):\n",
    "    print('Ваш знак зодиака: Скорпион')\n",
    "elif (day >= 23 and new_month == 'ноябрь') or (day <= 21 and new_month == 'декабрь'):\n",
    "    print('Ваш знак зодиака: Стрелец')\n",
    "elif (day >= 22 and new_month == 'декабрь') or (day <= 20 and new_month == 'январь'):\n",
    "    print('Ваш знак зодиака: Козерог')\n",
    "elif (day >= 21 and new_month == 'январь') or (day <= 20 and new_month == 'февраль'):\n",
    "    print('Ваш знак зодиака: Водолей')\n",
    "elif (day >= 21 and new_month == 'февраль') or (day <= 20 and new_month == 'март'):\n",
    "    print('Ваш знак зодиака: Рыбы')\n",
    "else:\n",
    "    print('Попробуй еще раз')"
   ]
  },
  {
   "cell_type": "markdown",
   "metadata": {},
   "source": [
    "### Задание №4"
   ]
  },
  {
   "cell_type": "code",
   "execution_count": 35,
   "metadata": {},
   "outputs": [
    {
     "name": "stdout",
     "output_type": "stream",
     "text": [
      "Введи ширину 15\n",
      "Введи длину 10\n",
      "Введи высоту 40\n",
      "Коробка №2\n"
     ]
    }
   ],
   "source": [
    "width = int(input('Введи ширину '))\n",
    "length = int(input('Введи длину '))\n",
    "height = int(input('Введи высоту '))\n",
    "if width < 15 and length < 15 and height < 15:\n",
    "    print('Коробка №1')\n",
    "elif (15 <= width < 50 or 15 <= length < 50 or 15 <= height < 50):\n",
    "    print('Коробка №2')\n",
    "elif length >= 200:\n",
    "    print('Упаковка для лыж')\n",
    "else:\n",
    "    print('Стандартная упаковка №3')"
   ]
  },
  {
   "cell_type": "markdown",
   "metadata": {},
   "source": [
    "### Задача №5"
   ]
  },
  {
   "cell_type": "code",
   "execution_count": 20,
   "metadata": {},
   "outputs": [
    {
     "name": "stdout",
     "output_type": "stream",
     "text": [
      "Введи номер билета 176617\n",
      "Счастливый билет\n"
     ]
    }
   ],
   "source": [
    "number_bilet=input('Введи номер билета ')\n",
    "number = list(number_bilet)\n",
    "if (int(number[0])+int(number[1])+int(number[2]))==(int(number[3])+int(number[4])+int(number[5])):\n",
    "    print ('Счастливый билет')\n",
    "else:\n",
    "    print ('Несчастливый билет')"
   ]
  },
  {
   "cell_type": "markdown",
   "metadata": {},
   "source": [
    "### Задача №6"
   ]
  },
  {
   "cell_type": "code",
   "execution_count": 30,
   "metadata": {},
   "outputs": [
    {
     "name": "stdout",
     "output_type": "stream",
     "text": [
      "Введите тип фигуры Круг\n",
      "Введите радиус круга: 5\n",
      "78.5\n"
     ]
    }
   ],
   "source": [
    "object = input('Введите тип фигуры ').lower()\n",
    "if object == 'треугольник':\n",
    "    a = int(input('Введите длину стороны A: '))\n",
    "    b = int(input('Введите длину стороны B: '))\n",
    "    c = int(input('Введите длину стороны C: '))\n",
    "    p = (a+b+c) / 2\n",
    "    s = ((p*(p - a)*(p - b)*(p - c))**0.5)\n",
    "    print (round(s,2))\n",
    "elif object == 'прямоугольник':\n",
    "    a = int(input('Введите длину стороны A: '))\n",
    "    b = int(input('Введите длину стороны B: '))\n",
    "    s = a * b\n",
    "    print (s)\n",
    "elif object == 'круг':\n",
    "    r = float(input('Введите радиус круга: '))\n",
    "    pi = 3.14\n",
    "    s = float(pi * (r ** 2))\n",
    "    print(s)"
   ]
  },
  {
   "cell_type": "code",
   "execution_count": null,
   "metadata": {},
   "outputs": [],
   "source": []
  }
 ],
 "metadata": {
  "kernelspec": {
   "display_name": "Python 3",
   "language": "python",
   "name": "python3"
  },
  "language_info": {
   "codemirror_mode": {
    "name": "ipython",
    "version": 3
   },
   "file_extension": ".py",
   "mimetype": "text/x-python",
   "name": "python",
   "nbconvert_exporter": "python",
   "pygments_lexer": "ipython3",
   "version": "3.9.0"
  }
 },
 "nbformat": 4,
 "nbformat_minor": 4
}
